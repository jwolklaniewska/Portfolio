{
 "cells": [
  {
   "cell_type": "markdown",
   "metadata": {},
   "source": [
    "## __Równanie Friedmanna - czyli jak to jest z tym Wszechświatem?__\n"
   ]
  },
  {
   "cell_type": "markdown",
   "metadata": {},
   "source": [
    "Albert Einstein powiedział kiedyś, że: _\"Ważne jest, aby nigdy nie przestać pytać. Ciekawość nie istnieje bez przyczyny\"._ $^{[1]}$ Jako ludzie jesteśmy z natury ciekawi otaczającego nas świata. Najbardziej nurtują nas jednak te tajemnicze i trudne do zbadania obszary naszego życia. I z tego powodu zdecydowałyśmy się na zrealizowanie projektu związanego z szeroko pojętym zagadnieniem Wszechświata. Naszym celem jest poznanie budowy, geometrii i wieku Wszechświata, a także odpowiedzenie na pytanie „Czy wszechświat się rozszerza?”. Do tej analizy posłuży nam pierwsze równanie Friedmanna."
   ]
  },
  {
   "cell_type": "markdown",
   "metadata": {},
   "source": [
    "### __Notka historyczna__\n",
    "\n",
    "W roku 1915 Albert Einstein zakończył formułowanie ogólnej teorii względności (OTW). Teoria ta opierała się na tak zwanych równaniach pola grawitacyjnego (równaniach Einsteina, równaniach pola), które wyrażają podstawową zasadę OTW- mając zadany rozkład mas możemy poszukiwać struktury geometrycznej przestrzeni.\n",
    "\n",
    "To właśnie Einstein był pierwszym, który wprowadził do równań stałą kosmologiczną, dzięki temu jego model Wszechświata był statyczny. Naukowiec miał jednak świadomość, że zastosowanie równania pola do całego Wszechświata, przyniesie rozwiązanie, które nie są statyczne. Po latach Albert Einstein uznał, że błędnie wprowadził stałą kosmologiczną do swoich równań.\n",
    "\n",
    "Kolejną wartą uwagi postacią jest Willem de Sitter- fizyk i astronom z Holandii, który utworzył własny model kosmologiczny, który również był statyczny, aczkolwiek posiadał pewne własności dynamiczne. Najważniejszym założeniem było jednak to, że był to model Wszechświata nie zawierającego materii (tzw. pusty Wszechświat de Sittera). W dzisiejszych czasach może to brzmieć nieco abstrakcyjnie, jednak model ten mimo swojej prostoty, bywa wykorzystywany do dziś.\n",
    "\n",
    "Zaledwie kilka lat później, rosyjski matematyk- Aleksandr Aleksandrowicz Friedmann zajął się analizą równań pola. W roku 1922 wyprowadził na tej podstawie dwa niezależne równania, nazwane w późniejszym czasie jego nazwiskiem. Dzięki temu jako pierwszy uzyskał dynamiczny model Wszechświata. Był to wielki krok dla nauki. Równania Friedmanna stały się podstawą kosmologii relatywistycznej. Za ich pomocą możemy zbadać ewolucję Wszechświata.\n",
    "\n",
    " <img src = \"https://upload.wikimedia.org/wikipedia/commons/thumb/3/3f/Fridman_AA.jpg/800px-Fridman_AA.jpg\" width=200> $\\newline$\n",
    " _obrazek: Aleksandr Aleksandrowicz Friedmann_ $^{[2]}$\n",
    "\n",
    "\n",
    "_Źródło danych historycznych._ $^{[3]}$"
   ]
  },
  {
   "cell_type": "markdown",
   "metadata": {},
   "source": [
    "### __Opis zjawiska__\n",
    "Każdy, myśląc o wszechświecie, zapewne wyobraża sobie coś nieco innego. Również w rzeczywistości nie jest znana jeszcze jednoznaczna odpowiedź na pytanie \"Jak Wszechświat wygląda, a dokładniej jaki przyjmuje kształt?\". Możemy jednak wyróżnić trzy możliwe topologie (geometrie) wszechświata, które będzie on mógł przyjmować, w zależności od przyjętej krzywizny przestrzeni, która jest parametrem wymienionego wcześniej równania Friedmana.\n",
    "Zatem rozróżniamy trzy możliwe wartości krzywizny przestrzeni, które wynoszą: $-1$, $0$ oraz $1$. Przestrzeń przyjmuje wtedy odpowiednio: geometrię otwartą (hiperboliczną), płaską oraz zamkniętą (sferyczną).\n",
    "\n",
    "<img src=\"https://scx1.b-cdn.net/csz/news/800a/2015/whatshapeist.jpg\" width=\"500\"> $\\newline$\n",
    "_obrazek: krzywizny przestrzeni_ $^{[4]} \\newline$\n",
    "\n",
    "Friedman stworzył dwa równania, które opisują ewolucję wszechświata, przy założeniu, że jest to przestrzeń jednorodna i izotropowa (nie są wyróżnione miejsce i kierunek). Opisują one w pewnym stopniu inne zjawiska.\n",
    "Pierwsze równanie Friedmana ma następującą postać i opisuje zależność zmiany pierwszej pochodnej czynnika skali od czasu.\n",
    "$$H^2 \\equiv \\Bigl( \\frac{\\dot{a}}{a} \\Bigr) ^2 = \\frac{8 \\pi G \\rho}{3} - \\frac{kc^2}{a^2} + \\frac{\\lambda c^2}{3},$$ \n",
    "gdzie $H$- parametr Hubble'a, $G$- stała grawitacji, $k$- krzywizna przestrzeni, $c$- prędkość światła w próżni, $\\lambda$- stała kosmologiczna oraz $\\rho$- gęstość Wszechświata. $\\newline$\n",
    "Natomiat $a = a(t)$ jest czynnikiem skali- wielkością wiążącą odległość własną między dwoma punktami z odległością we współrzędnych współporuszających się (według tych współrzędnych Wszechświat jest statyczny) zależna tylko i wyłącznie od czasu kosmicznego. Opisuje ona ekspansję Wszechświata- jak zmieniają się odległości między obiektami we Wszechświecie.\n",
    "\n",
    "Powyższe równanie można przeformułować do ogólniejszej postaci, wprowadzsając parametr gęstości: $\\Omega = \\frac{\\rho}{\\rho_c},$ gdzie $\\rho_c$- gęstość krytyczna Wszechświata. $\\newline$ \n",
    "Wtedy nasze równanie ma następującą postać:\n",
    "$$\\frac{H^2}{H_{0}^2} = \\Omega_R a^{-4}+\\Omega_M a^{-3} + \\Omega_k a^{-2} + \\Omega_\\lambda,$$\n",
    "gdzie: $H_0$- stała Hubble'a, $\\Omega_R$- parametr gęstości promieniowania, $\\Omega_M$- parametr gęstości materii, $\\Omega_\\lambda$- parametr stałej kosmologicznej oraz $\\Omega_k$- parametr krzywizny.\n",
    "\n",
    "Drugie równanie Friedmanna opisuje zależność zmiany pierwszej pochodnej czynnika skali od czasu. Jest ono zwane również równaniem na przyspieszenie. Ma ono następującą postać:\n",
    "$$\\dot{H} + H^2 \\equiv \\frac{\\dot{a}}{a} = - \\frac{4 \\pi G}{3}\\Bigl(\\rho+\\frac{3p}{c^2}\\Bigr) + \\frac{\\lambda c^2}{3},$$ \n",
    "gdzie dodatkowo: $p$ - ciśnienie.\n",
    "\n",
    "Wartości większości z występujących w równaniach parametrów nie są znane. Wiemy jednak, że muszą być one wartościami stałymi. Możemy jedynie rozważyć różne kombinacje wartości, które mogą przyjąć i w zależności od nich rozwiązywać równanie. Rozważymy teraz możliwe wartości konkretnych parametrów.\n",
    "\n",
    "Jak zostało wcześniej wspomniane, krzywizna przestrzeni $k$ może przyjmować wartości $-1$, $0$ oraz $1$. W zależności od tego parametr krzywizny jest odpowiednio dodatni, równy $0$, bądź ujemny.\n",
    "\n",
    "Jednak badania pokazują, że krzywizna przestrzeni najprawdopodobniej wynosi w przybliżeniu $0$.\n",
    "Zatem my rozważymy wartości innych parametrów przy wartości krzywizny równej zero.\n",
    "\n",
    "Jednocześnie według badań stała kosmologiczna $\\lambda$ najprawdopodobniej jest większa od $0$. Rozważymy, więc rozwiązania tego równania uwzględniając tylko wartości dodatnie $\\lambda$.\n",
    "\n",
    "\n",
    "\n",
    "\n",
    "\n",
    "\n",
    "\n",
    "\n",
    "\n"
   ]
  },
  {
   "cell_type": "markdown",
   "metadata": {},
   "source": [
    "### __Rozwiązanie analityczne__\n"
   ]
  },
  {
   "cell_type": "markdown",
   "metadata": {},
   "source": [
    "Zacznijmy zatem rozważania pierwszego równania Friedmanna dla od wartości $\\lambda = 0 $ oraz $k = 0$.\n",
    "Równanie przyjmuje wtedy następującą postać:\n",
    "$$ H^{2}=\\frac{8\\pi G}{3}\\rho $$\n",
    "$$ \\frac{\\dot{a}}{a}^{2}=\\frac{8\\pi G}{3}\\rho $$\n",
    "$$ \\dot{a}^{2}=\\frac{8\\pi G}{3}\\rho a^{2} $$\n",
    "$$ \\dot{a}=\\sqrt{\\frac{8\\pi G}{3}\\rho} a $$\n",
    "$$ \\frac{da}{dt}=\\sqrt{\\frac{8\\pi G}{3}\\rho} a $$\n",
    "$$ \\frac{da}{a}=\\sqrt{\\frac{8\\pi G}{3}\\rho} \\, dt $$\n",
    "$$ \\int{\\frac{da}{a}}=\\int{\\sqrt{\\frac{8\\pi G}{3}\\rho}} \\, dt $$\n",
    "$$ \\ln a=\\sqrt{\\frac{8\\pi G}{3}\\rho}\\, t + C $$\n",
    "$$ a(t)=De^{\\sqrt{\\frac{8\\pi G}{3}\\rho}\\, t} .$$\n",
    "\n",
    "Dalej rozważmy przypadek, kiedy $\\lambda > 0$ oraz $k = 0$. Do rozwiązania wykorzystamy uogólnioną postać równania:\n",
    "$$\\frac{H^2}{H_{0}^2} = \\Omega_R a^{-4}+\\Omega_M a^{-3} + \\Omega_k a^{-2} + \\Omega_\\lambda.$$\n",
    "\n",
    "Rozwiązanie tego równania dla $\\lambda > 0$ podzielimy na $3$ etapy względem rozwoju Wszechświata:\n",
    "- przeważa $\\Omega_{R}$,\n",
    "- przeważa $\\Omega_{M}$,\n",
    "- przeważa $\\Omega_{\\lambda}$.\n",
    "\n",
    "Rozważmy więc przeważającą $\\Omega_{R}$:\n",
    "$$ H^{2}=H_{0}^{2}\\frac{\\Omega_{R}}{a^{4}} $$\n",
    "$$ \\frac{\\dot{a}}{a}^{2}=H_{0}^{2}\\frac{\\Omega_{R}}{a^{4}} $$\n",
    "$$ \\frac{\\dot{a}}{a}=\\sqrt{H_{0}^{2}\\frac{\\Omega_{R}}{a^{4}}}=H_{0}\\frac{\\sqrt{\\Omega_{R}}}{a^{2}} $$\n",
    "$$ \\dot{a}a=H_{0}\\sqrt{\\Omega_{R}} $$\n",
    "$$ \\frac{da}{dt}a=H_{0}\\sqrt{\\Omega_{R}} $$\n",
    "$$ a\\, da = H_{0}\\sqrt{\\Omega_{R}} \\, dt $$\n",
    "$$ \\int{a}\\, da=\\int{H_{0}\\sqrt{\\Omega_{R}}} \\, dt $$\n",
    "$$ \\frac{a^{2}}{2}=H_{0}\\sqrt{\\Omega_{R}}t + C $$\n",
    "$$ a(t)=\\sqrt{2H_{0}\\sqrt{\\Omega_{R}}t + C} .$$\n",
    "\n",
    "Rozważmy dalej przeważającą $\\Omega_{M}$:\n",
    "$$H^{2}=H_{0}^{2}\\frac{\\Omega_{M}}{a^{3}} $$\n",
    "$$ \\frac{\\dot{a}}{a}^{2}=H_{0}^{2}\\frac{\\Omega_{M}}{a^{3}} $$\n",
    "$$ \\frac{\\dot{a}}{a}=\\sqrt{H_{0}^{2}\\frac{\\Omega_{M}}{a^{3}}}=H_{0}\\frac{\\sqrt{\\Omega_{M}}}{a^{\\frac{3}{2}}} $$\n",
    "$$ \\dot{a}\\sqrt{a}=H_{0}\\sqrt{\\Omega_{M}} $$\n",
    "$$ \\frac{da}{dt}\\sqrt{a}=H_{0}\\sqrt{\\Omega_{M}} $$\n",
    "$$ \\sqrt{a}\\, da = H_{0}\\sqrt{\\Omega_{M}} \\, dt $$\n",
    "$$ \\int{\\sqrt{a}}\\, da=\\int{H_{0}\\sqrt{\\Omega_{M}}} \\, dt $$\n",
    "$$ \\frac{2}{3}a^{\\frac{3}{2}}=H_{0}\\sqrt{\\Omega_{M}}t $$\n",
    "$$ a^{\\frac{3}{2}}=\\frac{3}{2}H_{0}\\sqrt{\\Omega_{M}}t + C $$\n",
    "$$ a(t)=\\sqrt{(\\frac{3}{2}H_{0}\\sqrt{\\Omega_{M}}t + C)^{3}} .$$\n",
    "\n",
    "Następnie rozważmy przeważającą $\\Omega_{R}$:\n",
    "$$ H^{2}=H_{0}^{2}\\Omega_{\\lambda} $$\n",
    "$$ \\frac{\\dot{a}}{a}^{2}=H_{0}^{2}\\Omega_{\\lambda} $$\n",
    "$$ \\frac{\\dot{a}}{a}=\\sqrt{H_{0}^{2}\\Omega_{\\lambda}}=H_{0}\\sqrt{\\Omega_{\\lambda}} $$\n",
    "$$ \\dot{a}a=H_{0}\\sqrt{\\Omega_{\\lambda}} $$\n",
    "$$ \\frac{da}{a\\,dt}=H_{0}\\sqrt{\\Omega_{\\lambda}} $$\n",
    "$$ \\frac{da}{a} = H_{0}\\sqrt{\\Omega_{\\lambda}} \\, dt $$\n",
    "$$ \\int{\\frac{da}{a}}=\\int{H_{0}\\sqrt{\\Omega_{\\lambda}}} \\, dt $$\n",
    "$$ \\ln a=H_{0}\\sqrt{\\Omega_{\\lambda}}t + C $$\n",
    "$$ a(t)=De^{H_{0}\\sqrt{\\Omega_{\\lambda}}t} .$$"
   ]
  },
  {
   "cell_type": "markdown",
   "metadata": {},
   "source": [
    "### __Rozwiązanie numeryczne__"
   ]
  },
  {
   "cell_type": "markdown",
   "metadata": {},
   "source": [
    "Wykonamy teraz numeryczne obliczenia dla powyższych przypadków. W tym celu skorzystamy z algorytmu Rungego-Kutty. $^{[5]}$ "
   ]
  },
  {
   "cell_type": "code",
   "execution_count": 3,
   "metadata": {},
   "outputs": [
    {
     "data": {
      "image/png": "[encoded data removed]",
      "text/plain": [
       "<Figure size 432x288 with 2 Axes>"
      ]
     },
     "metadata": {
      "needs_background": "light"
     },
     "output_type": "display_data"
    }
   ],
   "source": [
    "from matplotlib import pyplot as plt\n",
    "\n",
    "Or = 10**(-4)                                             #przyjęte wartości stałych\n",
    "Om = 0.3\n",
    "H0 = 70\n",
    "Ol1 = 0.7*10**(-10)\n",
    "Ol2 = 0\n",
    "\n",
    "def a(t,a):                                               #funkcja wyliczająca wartość a(t) dla danego czasu t\n",
    "    s = Or*(a**(-2)) + Om*(a**(-1)) + Ol*a**2\n",
    "    if type(s) is int:\n",
    "        return H0*(complex(s)**(1/2))\n",
    "    else: return H0*pow(complex(s),0.5)\n",
    "\n",
    "def rk(x0, y0, h , f):                                    #analiza numeryczna z wykorzystaniem metody Rungego-Kutty\n",
    "\n",
    "    K1 = h*f(x0, y0)\n",
    "    K2 = h*f(x0+h/2, y0 + K1/2)\n",
    "    K3 = h*f(x0+h/2, y0 + K2/2)\n",
    "    K4 = h*f(x0+h, y0 + K3)\n",
    "\n",
    "    dy = 1/6 * (K1 + 2*K2 + 2*K3 + K4)\n",
    "    y = y0 + dy\n",
    "    return y\n",
    "\n",
    "def runSimulation(repeat, x, y, f, h):                    #funkcja symulacji - tworzy wektory danych z wartościami t, a(t)\n",
    "    for i in range(repeat):\n",
    "        xi = x[-1]\n",
    "        x.append(xi + h)\n",
    "        y.append(rk(xi, y[-1], h , f))\n",
    "\n",
    "\n",
    "x0, y0 = 0, 1                                             #przyjęte warunki początkowe\n",
    "h = 10\n",
    "x1, x2 = [x0], [x0]\n",
    "y1, y2 = [y0], [y0]\n",
    "\n",
    "Ol = Ol1                                                  #przeprowadzanie symulacji\n",
    "runSimulation(10000, x1, y1, a, h)\n",
    "Ol = Ol2\n",
    "runSimulation(10000, x2, y2, a, h)\n",
    "\n",
    "\n",
    "plt.subplot(2,1,1)                                        #tworzenie wykresów\n",
    "plt.plot(x1,y1,'r-',label='Ol > 0')\n",
    "plt.xlabel('Czas')\n",
    "plt.ylabel('Ekspansja')\n",
    "plt.legend()\n",
    "plt.subplot(2,1,2)\n",
    "plt.plot(x2,y2,'b-',label='Ol = 0')\n",
    "plt.xlabel('Czas')\n",
    "plt.ylabel('Ekspansja')\n",
    "plt.legend()\n",
    "plt.suptitle('Rozszerzanie się Wszechświata')\n",
    "plt.show()"
   ]
  },
  {
   "cell_type": "markdown",
   "metadata": {},
   "source": [
    "Rozważając pierwsze równanie Friedmanna, dla $k=0$ oraz $\\lambda\\geq0$, dostajemy $2$ rozwiązania. \n",
    "\n",
    "Zarówno z analizy analitycznej, jak i też numerycznej otrzymujemy, że w przypadku $k=0$, $a(t)$ jest funkcją eksponentalną. \n",
    "\n",
    "Natomiast w przypadku $\\lambda>0$ otrzymujemy rozwiązanie będące syntezą trzech różnych funkcji w zależności, od etapu rozwoju Wszechświata, zakończone również ekspansją eksponentalną. Nie jest to widoczne szczegółowo na wykresie, będącym wynikiem analizy numerycznej, ponieważ końcowe wartości funkcji są zdecydowanie większe, niż te otrzymowane we wcześniejszym etapie rozwoju.\n",
    "\n",
    "Możemy jednoznacznie stwierdzić, że w obu przypadkach Wszechświat rozszerza się nieprzerwanie i będzie to wciąż robił. Jednak wyniki analizy numerycznej pokazują, że w przypadku $\\lambda$ różnej od $0$ rozszerza się dużo szybciej."
   ]
  },
  {
   "cell_type": "markdown",
   "metadata": {},
   "source": [
    "### __Wiek Wszechświata__\n",
    "\n",
    "Następnym etapem naszego projektu będzie obliczenie wieku Wszechświata z użyciem równania Friedmanna. Tak jak w powprzednich przykładach przyjmujemy, że $k = 0$, a zatem płaską geometrię Wsechświata.\n",
    "\n",
    "$$\\Bigl( \\frac{\\dot{a}}{a} \\Bigr) ^2 = H_0 ^2 ( \\Omega_R a^{-4} + \\Omega_M  a^{-3}+ \\Omega _\\lambda )$$\n",
    "$$\\Bigl( \\frac{\\dot{a}}{a} \\Bigr) = H_0 \\sqrt{\\Omega_R a^{-4} + \\Omega_M  a^{-3}+ \\Omega _\\lambda }$$\n",
    "$$\\dot{a} = H_0 \\sqrt{\\Omega_R a^{-2} + \\Omega_M  a^{-1}+ \\Omega _\\lambda a^2 }$$\n",
    "$$\\frac{da}{dt} = H_0 \\sqrt{\\Omega_R a^{-2} + \\Omega_M  a^{-1}+ \\Omega _\\lambda a^2 }$$\n",
    "$$\\int\\limits_{0}^{a(t_{now})} \\biggl( \\frac{da}{\\sqrt{\\Omega_R a^{-2} + \\Omega_M  a^{-1}+ \\Omega _\\lambda a^2 }} \\biggr) = t_{universe} H_0 $$\n",
    "\n",
    "Przyjmujemy $a(t_{now}) = 1 $\n",
    "\n",
    "$$\\frac{1}{\\sqrt{\\Omega _\\lambda}}\\int\\limits_{0}^{1} \\biggl( \\frac{da}{\\sqrt{\\frac{\\Omega_R}{\\Omega _\\lambda} a^{-2} + \\frac{\\Omega_M}{\\Omega _\\lambda}  a^{-1}+ a^2 }} \\biggr) = t_{universe} H_0 $$\n",
    "$$\\int\\limits_{0}^{1} \\biggl( \\frac{da}{\\sqrt{\\frac{\\Omega_R}{\\Omega _\\lambda} a^{-2} + \\frac{\\Omega_M}{\\Omega _\\lambda}  a^{-1}+ a^2 }} \\biggr) = \\sqrt{\\Omega _\\lambda} t_{universe} H_0 $$\n",
    "\n",
    "Dla $ \\Omega_\\lambda = 0.69 $, $\\Omega_R = 10^{-4}  $, $\\Omega_M = 0.31 $ oraz $ H_0^{-1} = 14.39 Gyr $ otrzymujemy:\n",
    "$$\\int\\limits_{0}^{1} \\biggl( \\frac{da}{\\sqrt{\\frac{10^{-4}}{0.69} a^{-2} + \\frac{0.31}{0.69}  a^{-1}+ a^2 }} \\biggr) = 0.7931436393123059$$\n",
    "Stąd:\n",
    "$$t_{universe} = \\frac{0.7931436393123059}{\\sqrt{0.69}}14.39 Gyr \\approx 13.74 Gyr $$\n"
   ]
  },
  {
   "cell_type": "markdown",
   "metadata": {},
   "source": [
    "### __Podsumowanie__ "
   ]
  },
  {
   "cell_type": "markdown",
   "metadata": {},
   "source": [
    "Wiedza o Wszechświecie nieustannie się poszerza. Z doświadczeń ludzkości możemy jednak założyć, że w odniesieniu do informacji, których jeszcze nie poznaliśmy, jest ona relatywnie mała. Pomimo tego znamy rozwiązanie niektórych kluczowyh problemów. Wiemy, że krzywizna przestrzeni wynosi około $0$, co pozwala stwiedzić, że Wszechświat przyjmuje płaską geometrię. Co prawda nie znamy przybliżonej wartości $\\lambda$, jednak jesteśmy w stanie określić, że przyjmuje ona wartości dodatnie, a co za tym idzie, Wszechświat najprawdopodobniej będzie się rozszerzał w nieskończoność. Co oznacza, że nie powinien nam grozić kolejny Wielki Wybuch, czego obawiają się niektórzy naukowcy. Inną ważną informacją, z punktu widzenia znajomości Wszechświata, jest przybliżona data jego powstania. Według obliczeń zdarzenie to miało miejsce około $13.74 Gyr$ temu. Wartość ta została określona z dużo wieksżą dokładnością niż szacunki sprzed kilkunastu lat, co pokazuje tempo rozwoju współczesnej nauki. Pomimo ciągłego wzrostu informacji o Wszechświecie, w dalszym ciągu temat ten pozostaje dla ludzkości wielką zagadką."
   ]
  },
  {
   "cell_type": "markdown",
   "metadata": {},
   "source": [
    "### __Źródła:__\n",
    "$[1]$ https://quotepark.com/pl/cytaty/426986-albert-einstein-wazne-jest-by-nigdy-nie-przestac-pytac-ciekawosc/ $\\newline$\n",
    "$[2]$ https://upload.wikimedia.org/wikipedia/commons/thumb/3/3f/Fridman_AA.jpg/800px-Fridman_AA.jpg  $\\newline$\n",
    "$[3]$ https://www.wielkiepytania.pl/article/a-jednak-sie-rozszerza-z-dziejow-wszechswiata-dynamicznego/ $\\newline$\n",
    "$[4]$ https://scx2.b-cdn.net/gfx/news/hires/2015/whatshapeist.jpg $\\newline$\n",
    "$[5]$ https://www.wikiwand.com/pl/Algorytm_Rungego-Kutty"
   ]
  }
 ],
 "metadata": {
  "kernelspec": {
   "display_name": "Python 3 (ipykernel)",
   "language": "python",
   "name": "python3"
  },
  "language_info": {
   "codemirror_mode": {
    "name": "ipython",
    "version": 3
   },
   "file_extension": ".py",
   "mimetype": "text/x-python",
   "name": "python",
   "nbconvert_exporter": "python",
   "pygments_lexer": "ipython3",
   "version": "3.9.12"
  },
  "vscode": {
   "interpreter": {
    "hash": "1d17feb461d25e516c176b8ff232919acfc65cf3dacaaea93d5969d7686d9bd6"
   }
  }
 },
 "nbformat": 4,
 "nbformat_minor": 2
}

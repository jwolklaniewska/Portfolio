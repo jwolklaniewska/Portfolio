{
 "cells": [
  {
   "cell_type": "markdown",
   "id": "a1728fe6-9691-40d3-bbd3-ea94568fbe77",
   "metadata": {},
   "source": [
    "# ANALIZA STATYSTYCZNA DANYCH EEG\n",
    "- obliczenie podstawowych statystyk\n",
    "- sprawdzenie braku braku rożnic statystycznie istotnych między chorymi i zdrowymi\n",
    "- przedstawienie uśrednionych wartości statystyk"
   ]
  },
  {
   "cell_type": "code",
   "execution_count": 1,
   "id": "37772ef7-d768-4f22-bc77-08f9208401b7",
   "metadata": {},
   "outputs": [],
   "source": [
    "import mne\n",
    "import matplotlib.pyplot as plt\n",
    "import numpy as np\n",
    "import pandas as pd\n",
    "from statsmodels.tsa.stattools import acovf, acf, pacf, adfuller\n",
    "from statsmodels.tsa.arima.model import ARIMA\n",
    "import statsmodels as st\n",
    "from statsmodels.graphics.tsaplots import plot_acf, plot_pacf\n",
    "from statsmodels.tsa.arima_process import ArmaProcess, arma_acovf, arma_acf, arma_pacf\n",
    "from sklearn.linear_model import LinearRegression\n",
    "from scipy.optimize import curve_fit\n",
    "import scipy.stats as ss"
   ]
  },
  {
   "cell_type": "code",
   "execution_count": 2,
   "id": "48a9e87a-c6f6-43c9-b0ab-deb0be0a061b",
   "metadata": {},
   "outputs": [],
   "source": [
    "PD_eyesOpen = np.load('PD_eyesOpen.npy', allow_pickle=True)\n",
    "l = len(PD_eyesOpen)\n",
    "PD_eyesClosed = np.load('PD_eyesClosed.npy', allow_pickle=True)\n",
    "\n",
    "HC_eyesOpen = np.load('HC_eyesOpen.npy', allow_pickle=True)\n",
    "HC_eyesClosed = np.load('HC_eyesClosed.npy', allow_pickle=True)"
   ]
  },
  {
   "cell_type": "markdown",
   "id": "edf4eaf7-a9fb-40ea-ac83-453894dc200a",
   "metadata": {},
   "source": [
    "# ŚREDNIA"
   ]
  },
  {
   "cell_type": "code",
   "execution_count": 3,
   "id": "0cc0cd26-1204-496e-9341-04669af3599d",
   "metadata": {},
   "outputs": [
    {
     "name": "stdout",
     "output_type": "stream",
     "text": [
      "         PDO       PDC       HCO       HCC\n",
      "0   0.000073  0.000086  0.000097  0.000100\n",
      "1   0.000087  0.000082  0.000081  0.000089\n",
      "2   0.000079  0.000086  0.000069  0.000076\n",
      "3   0.000089  0.000085  0.000088  0.000086\n",
      "4   0.000087  0.000086  0.000080  0.000092\n",
      "5   0.000085  0.000088  0.000078  0.000078\n",
      "6   0.000084  0.000087  0.000085  0.000085\n",
      "7   0.000081  0.000079  0.000054  0.000075\n",
      "8   0.000075  0.000085  0.000072  0.000078\n",
      "9   0.000084  0.000087  0.000082  0.000084\n",
      "10  0.000084  0.000087  0.000083  0.000084\n",
      "11  0.000085  0.000088  0.000073  0.000076\n",
      "12  0.000088  0.000084  0.000018  0.000033\n",
      "13  0.000082  0.000079  0.000080  0.000086\n",
      "14  0.000071  0.000079  0.000080  0.000084\n",
      "15  0.000074  0.000076  0.000071  0.000076\n",
      "16  0.000070  0.000082  0.000085  0.000078\n",
      "17  0.000081  0.000085  0.000062  0.000071\n",
      "18  0.000082  0.000077  0.000078  0.000081\n",
      "19  0.000064       NaN  0.000084  0.000086\n"
     ]
    }
   ],
   "source": [
    "df_mean = pd.DataFrame()\n",
    "\n",
    "PDO = []\n",
    "PDC = []\n",
    "HCO = []\n",
    "HCC = []\n",
    "\n",
    "statistics = []\n",
    "\n",
    "groups = [PD_eyesOpen, PD_eyesClosed, HC_eyesOpen, HC_eyesClosed]\n",
    "\n",
    "# for group in groups:\n",
    "#     l = len(group)\n",
    "for i in range(l):\n",
    "\n",
    "    PDO.append(np.mean(groups[0][i]))\n",
    "    HCO.append(np.mean(groups[2][i]))\n",
    "    HCC.append(np.mean(groups[3][i]))\n",
    "\n",
    "    if i == 19:\n",
    "        PDC.append(None)\n",
    "    else :PDC.append(np.mean(groups[1][i]))\n",
    "\n",
    "df_mean['PDO']  = PDO\n",
    "df_mean['PDC']  = PDC\n",
    "df_mean['HCO']  = HCO\n",
    "df_mean['HCC']  = HCC\n",
    "\n",
    "print(df_mean)"
   ]
  },
  {
   "cell_type": "code",
   "execution_count": 11,
   "id": "336d712e-7c26-4974-a780-ec011d31ca1a",
   "metadata": {},
   "outputs": [
    {
     "name": "stdout",
     "output_type": "stream",
     "text": [
      "Otwarte oczy\n",
      "247.0 0.20845355458876536\n",
      "Zamknięte oczy\n",
      "245.0 0.12569086795189321\n"
     ]
    }
   ],
   "source": [
    "print('Otwarte oczy')\n",
    "stat, p = ss.mannwhitneyu(df_mean['PDO'], df_mean['HCO'])\n",
    "print(stat, p)\n",
    "print('Zamknięte oczy')\n",
    "stat, p = ss.mannwhitneyu(df_mean['PDC'][:-1], df_mean['HCC'])\n",
    "print(stat, p)"
   ]
  },
  {
   "cell_type": "code",
   "execution_count": 8,
   "id": "a23bed52-93ba-4532-befc-ce2fb6f26abe",
   "metadata": {},
   "outputs": [
    {
     "name": "stdout",
     "output_type": "stream",
     "text": [
      "Średnia średnia\n",
      "PDO\n",
      "8.025e-05\n",
      "PDC\n",
      "8.37e-05\n",
      "HCO\n",
      "7.509e-05\n",
      "HCC\n",
      "7.992e-05\n"
     ]
    }
   ],
   "source": [
    "print('Średnia średnia')\n",
    "print('PDO')\n",
    "print(np.round(np.mean(df_mean['PDO']), 8))\n",
    "print('PDC')\n",
    "print(np.round(np.mean(df_mean['PDC']), 8))\n",
    "print('HCO')\n",
    "print(np.round(np.mean(df_mean['HCO']), 8))\n",
    "print('HCC')\n",
    "print(np.round(np.mean(df_mean['HCC']), 8))"
   ]
  },
  {
   "cell_type": "markdown",
   "id": "0c5e6322-50ec-4ccf-8627-1382ce825685",
   "metadata": {},
   "source": [
    "# Wariancja"
   ]
  },
  {
   "cell_type": "code",
   "execution_count": 7,
   "id": "c1f58598-371c-409c-8259-fce7607462a8",
   "metadata": {},
   "outputs": [
    {
     "name": "stdout",
     "output_type": "stream",
     "text": [
      "             PDO           PDC           HCO           HCC\n",
      "0   1.369804e-07  6.815867e-11  1.008506e-07  1.178786e-07\n",
      "1   4.927135e-11  2.967815e-11  1.877325e-10  1.415267e-10\n",
      "2   1.712405e-11  2.632438e-08  2.213882e-07  2.580303e-07\n",
      "3   2.276671e-09  1.655802e-10  9.872295e-10  9.754148e-10\n",
      "4   1.158908e-09  1.109216e-08  9.987673e-10  8.311943e-10\n",
      "5   5.158207e-08  6.702192e-11  3.046015e-11  3.806722e-11\n",
      "6   6.271972e-11  1.076884e-10  4.259505e-11  2.521475e-11\n",
      "7   9.749381e-11  1.813457e-09  3.223216e-10  5.129493e-10\n",
      "8   5.613260e-10  1.634589e-09  2.139237e-11  5.592218e-10\n",
      "9   1.494866e-10  8.833147e-08  9.842682e-11  1.412486e-10\n",
      "10  8.491850e-08  9.004187e-11  1.651129e-10  1.219162e-10\n",
      "11  3.338899e-11  9.945335e-11  1.896652e-10  6.107040e-10\n",
      "12  1.256077e-10  2.543110e-11  3.104269e-11  1.059648e-11\n",
      "13  2.528820e-11  9.559489e-11  3.496009e-11  4.084925e-11\n",
      "14  1.187226e-10  1.588753e-11  1.484533e-10  5.568888e-11\n",
      "15  1.432527e-11  4.117814e-11  7.999861e-11  6.870688e-11\n",
      "16  3.007714e-11  1.545064e-10  7.186030e-11  4.840198e-11\n",
      "17  1.780415e-09  1.843742e-10  6.234036e-10  7.410866e-10\n",
      "18  2.071182e-10  7.104260e-10  6.361622e-11  1.212092e-10\n",
      "19  1.249364e-08           NaN  4.181398e-10  1.280970e-10\n"
     ]
    }
   ],
   "source": [
    "df_var = pd.DataFrame()\n",
    "\n",
    "PDO = []\n",
    "PDC = []\n",
    "HCO = []\n",
    "HCC = []\n",
    "\n",
    "statistics = []\n",
    "\n",
    "groups = [PD_eyesOpen, PD_eyesClosed, HC_eyesOpen, HC_eyesClosed]\n",
    "\n",
    "# for group in groups:\n",
    "#     l = len(group)\n",
    "for i in range(l):\n",
    "\n",
    "    PDO.append(np.var(groups[0][i]))\n",
    "    HCO.append(np.var(groups[2][i]))\n",
    "    HCC.append(np.var(groups[3][i]))\n",
    "\n",
    "    if i == 19:\n",
    "        PDC.append(None)\n",
    "    else :PDC.append(np.var(groups[1][i]))\n",
    "\n",
    "df_var['PDO']  = PDO\n",
    "df_var['PDC']  = PDC\n",
    "df_var['HCO']  = HCO\n",
    "df_var['HCC']  = HCC\n",
    "\n",
    "print(df_var)"
   ]
  },
  {
   "cell_type": "code",
   "execution_count": 12,
   "id": "e970940f-2910-4160-8707-1a54d546dfe4",
   "metadata": {},
   "outputs": [
    {
     "name": "stdout",
     "output_type": "stream",
     "text": [
      "Otwarte oczy\n",
      "206.0 0.8817307917391243\n",
      "Zamknięte oczy\n",
      "190.0 1.0\n"
     ]
    }
   ],
   "source": [
    "print('Otwarte oczy')\n",
    "stat, p = ss.mannwhitneyu(df_var['PDO'], df_var['HCO'])\n",
    "print(stat, p)\n",
    "print('Zamknięte oczy')\n",
    "stat, p = ss.mannwhitneyu(df_var['PDC'][:-1], df_var['HCC'])\n",
    "print(stat, p)"
   ]
  },
  {
   "cell_type": "code",
   "execution_count": 12,
   "id": "1cc2819b-86a7-48f3-b5d7-2895e311b6db",
   "metadata": {},
   "outputs": [
    {
     "name": "stdout",
     "output_type": "stream",
     "text": [
      "Średnia wariancja\n",
      "PDO\n",
      "1.46e-08\n",
      "PDC\n",
      "6.9e-09\n",
      "HCO\n",
      "1.63e-08\n",
      "HCC\n",
      "1.91e-08\n"
     ]
    }
   ],
   "source": [
    "print('Średnia wariancja')\n",
    "print('PDO')\n",
    "print(np.round(np.mean(df_var['PDO']), 10))\n",
    "print('PDC')\n",
    "print(np.round(np.mean(df_var['PDC']), 10))\n",
    "print('HCO')\n",
    "print(np.round(np.mean(df_var['HCO']), 10))\n",
    "print('HCC')\n",
    "print(np.round(np.mean(df_var['HCC']), 10))"
   ]
  },
  {
   "cell_type": "markdown",
   "id": "370273d9-26c2-4494-bceb-538f17094a80",
   "metadata": {},
   "source": [
    "# ODCYLENIE STANDARDOWE"
   ]
  },
  {
   "cell_type": "code",
   "execution_count": 9,
   "id": "47231db9-fe43-4361-a4f4-2c4979d9617e",
   "metadata": {},
   "outputs": [
    {
     "name": "stdout",
     "output_type": "stream",
     "text": [
      "         PDO       PDC       HCO       HCC\n",
      "0   0.000370  0.000008  0.000318  0.000343\n",
      "1   0.000007  0.000005  0.000014  0.000012\n",
      "2   0.000004  0.000162  0.000471  0.000508\n",
      "3   0.000048  0.000013  0.000031  0.000031\n",
      "4   0.000034  0.000105  0.000032  0.000029\n",
      "5   0.000227  0.000008  0.000006  0.000006\n",
      "6   0.000008  0.000010  0.000007  0.000005\n",
      "7   0.000010  0.000043  0.000018  0.000023\n",
      "8   0.000024  0.000040  0.000005  0.000024\n",
      "9   0.000012  0.000297  0.000010  0.000012\n",
      "10  0.000291  0.000009  0.000013  0.000011\n",
      "11  0.000006  0.000010  0.000014  0.000025\n",
      "12  0.000011  0.000005  0.000006  0.000003\n",
      "13  0.000005  0.000010  0.000006  0.000006\n",
      "14  0.000011  0.000004  0.000012  0.000007\n",
      "15  0.000004  0.000006  0.000009  0.000008\n",
      "16  0.000005  0.000012  0.000008  0.000007\n",
      "17  0.000042  0.000014  0.000025  0.000027\n",
      "18  0.000014  0.000027  0.000008  0.000011\n",
      "19  0.000112       NaN  0.000020  0.000011\n"
     ]
    }
   ],
   "source": [
    "df_std = pd.DataFrame()\n",
    "\n",
    "PDO = []\n",
    "PDC = []\n",
    "HCO = []\n",
    "HCC = []\n",
    "\n",
    "statistics = []\n",
    "\n",
    "groups = [PD_eyesOpen, PD_eyesClosed, HC_eyesOpen, HC_eyesClosed]\n",
    "\n",
    "# for group in groups:\n",
    "#     l = len(group)\n",
    "for i in range(l):\n",
    "\n",
    "    PDO.append(np.std(groups[0][i]))\n",
    "    HCO.append(np.std(groups[2][i]))\n",
    "    HCC.append(np.std(groups[3][i]))\n",
    "\n",
    "    if i == 19:\n",
    "        PDC.append(None)\n",
    "    else :PDC.append(np.std(groups[1][i]))\n",
    "\n",
    "df_std['PDO']  = PDO\n",
    "df_std['PDC']  = PDC\n",
    "df_std['HCO']  = HCO\n",
    "df_std['HCC']  = HCC\n",
    "\n",
    "print(df_std)"
   ]
  },
  {
   "cell_type": "code",
   "execution_count": 13,
   "id": "4b646062-0026-4bc1-9a28-fa32e7831272",
   "metadata": {},
   "outputs": [
    {
     "name": "stdout",
     "output_type": "stream",
     "text": [
      "Otwarte oczy\n",
      "206.0 0.8817307917391243\n",
      "Zamknięte oczy\n",
      "190.0 1.0\n"
     ]
    }
   ],
   "source": [
    "print('Otwarte oczy')\n",
    "stat, p = ss.mannwhitneyu(df_std['PDO'], df_std['HCO'])\n",
    "print(stat, p)\n",
    "print('Zamknięte oczy')\n",
    "stat, p = ss.mannwhitneyu(df_std['PDC'][:-1], df_std['HCC'])\n",
    "print(stat, p)"
   ]
  },
  {
   "cell_type": "code",
   "execution_count": 17,
   "id": "8052aeea-1acf-4b2e-ab43-1aba1b8e7245",
   "metadata": {},
   "outputs": [
    {
     "name": "stdout",
     "output_type": "stream",
     "text": [
      "Średnie odchylenie standardowe\n",
      "PDO\n",
      "6.23e-05\n",
      "PDC\n",
      "4.16e-05\n",
      "HCO\n",
      "5.15e-05\n",
      "HCC\n",
      "5.55e-05\n"
     ]
    }
   ],
   "source": [
    "print('Średnie odchylenie standardowe')\n",
    "print('PDO')\n",
    "print(np.round(np.mean(df_std['PDO']), 7))\n",
    "print('PDC')\n",
    "print(np.round(np.mean(df_std['PDC']), 7))\n",
    "print('HCO')\n",
    "print(np.round(np.mean(df_std['HCO']), 7))\n",
    "print('HCC')\n",
    "print(np.round(np.mean(df_std['HCC']), 7))"
   ]
  },
  {
   "cell_type": "markdown",
   "id": "08d1e9c2-5d0c-4797-b71a-f6a09b2df36e",
   "metadata": {},
   "source": [
    "# MEDIANA"
   ]
  },
  {
   "cell_type": "code",
   "execution_count": 14,
   "id": "79350f69-7f25-44b0-a91c-be1518d5fd9a",
   "metadata": {},
   "outputs": [
    {
     "name": "stdout",
     "output_type": "stream",
     "text": [
      "         PDO       PDC       HCO       HCC\n",
      "0   0.000073  0.000086  0.000115  0.000108\n",
      "1   0.000087  0.000082  0.000082  0.000090\n",
      "2   0.000079  0.000087  0.000074  0.000071\n",
      "3   0.000090  0.000085  0.000088  0.000088\n",
      "4   0.000086  0.000084  0.000078  0.000094\n",
      "5   0.000079  0.000089  0.000077  0.000078\n",
      "6   0.000084  0.000087  0.000085  0.000086\n",
      "7   0.000080  0.000078  0.000055  0.000074\n",
      "8   0.000074  0.000085  0.000072  0.000076\n",
      "9   0.000083  0.000089  0.000082  0.000084\n",
      "10  0.000086  0.000088  0.000083  0.000084\n",
      "11  0.000085  0.000088  0.000074  0.000078\n",
      "12  0.000087  0.000084  0.000018  0.000034\n",
      "13  0.000082  0.000078  0.000080  0.000086\n",
      "14  0.000071  0.000079  0.000080  0.000084\n",
      "15  0.000074  0.000076  0.000071  0.000076\n",
      "16  0.000070  0.000082  0.000084  0.000078\n",
      "17  0.000081  0.000084  0.000056  0.000067\n",
      "18  0.000082  0.000075  0.000078  0.000081\n",
      "19  0.000046       NaN  0.000086  0.000086\n"
     ]
    }
   ],
   "source": [
    "df_med = pd.DataFrame()\n",
    "\n",
    "PDO = []\n",
    "PDC = []\n",
    "HCO = []\n",
    "HCC = []\n",
    "\n",
    "groups = [PD_eyesOpen, PD_eyesClosed, HC_eyesOpen, HC_eyesClosed]\n",
    "\n",
    "# for group in groups:\n",
    "#     l = len(group)\n",
    "for i in range(l):\n",
    "\n",
    "    PDO.append(np.median(groups[0][i]))\n",
    "    HCO.append(np.median(groups[2][i]))\n",
    "    HCC.append(np.median(groups[3][i]))\n",
    "\n",
    "    if i == 19:\n",
    "        PDC.append(None)\n",
    "    else :PDC.append(np.median(groups[1][i]))\n",
    "\n",
    "df_med['PDO']  = PDO\n",
    "df_med['PDC']  = PDC\n",
    "df_med['HCO']  = HCO\n",
    "df_med['HCC']  = HCC\n",
    "\n",
    "print(df_med)"
   ]
  },
  {
   "cell_type": "code",
   "execution_count": 15,
   "id": "903437c4-e426-4e9c-bc4f-0fef3bc35944",
   "metadata": {},
   "outputs": [
    {
     "name": "stdout",
     "output_type": "stream",
     "text": [
      "Otwarte oczy\n",
      "232.0 0.39417090995164517\n",
      "Zamknięte oczy\n",
      "234.0 0.22161518626465104\n"
     ]
    }
   ],
   "source": [
    "print('Otwarte oczy')\n",
    "stat, p = ss.mannwhitneyu(df_med['PDO'], df_med['HCO'])\n",
    "print(stat, p)\n",
    "print('Zamknięte oczy')\n",
    "stat, p = ss.mannwhitneyu(df_med['PDC'][:-1], df_med['HCC'])\n",
    "print(stat, p)"
   ]
  },
  {
   "cell_type": "code",
   "execution_count": 20,
   "id": "9513d245-2667-4ba3-b5b9-95ed65ef8da2",
   "metadata": {},
   "outputs": [
    {
     "name": "stdout",
     "output_type": "stream",
     "text": [
      "Średnia mediana\n",
      "PDO\n",
      "7.9e-05\n",
      "PDC\n",
      "8.35e-05\n",
      "HCO\n",
      "7.59e-05\n",
      "HCC\n",
      "8.01e-05\n"
     ]
    }
   ],
   "source": [
    "print('Średnia mediana')\n",
    "print('PDO')\n",
    "print(np.round(np.mean(df_med['PDO']), 7))\n",
    "print('PDC')\n",
    "print(np.round(np.mean(df_med['PDC']), 7))\n",
    "print('HCO')\n",
    "print(np.round(np.mean(df_med['HCO']), 7))\n",
    "print('HCC')\n",
    "print(np.round(np.mean(df_med['HCC']), 7))"
   ]
  },
  {
   "cell_type": "markdown",
   "id": "c32370e3-afb8-4d74-b31a-69d9ce860229",
   "metadata": {},
   "source": [
    "# MINIMUM"
   ]
  },
  {
   "cell_type": "code",
   "execution_count": 16,
   "id": "766f2539-3b9d-4528-99ec-f97850b0deb2",
   "metadata": {},
   "outputs": [
    {
     "name": "stdout",
     "output_type": "stream",
     "text": [
      "         PDO       PDC       HCO       HCC\n",
      "0  -0.002521  0.000047 -0.002259 -0.002692\n",
      "1   0.000055  0.000058  0.000007  0.000040\n",
      "2   0.000063 -0.001895 -0.006508 -0.006131\n",
      "3  -0.000500  0.000008 -0.000212 -0.000345\n",
      "4  -0.003688 -0.001107 -0.000009 -0.000197\n",
      "5  -0.002628  0.000049  0.000051  0.000054\n",
      "6   0.000056  0.000013  0.000041  0.000062\n",
      "7   0.000047 -0.000242 -0.000031 -0.001023\n",
      "8  -0.000113 -0.000071  0.000039  0.000019\n",
      "9  -0.000018 -0.004376  0.000033  0.000016\n",
      "10 -0.003548  0.000031  0.000030  0.000048\n",
      "11  0.000062  0.000036  0.000018 -0.000871\n",
      "12  0.000054  0.000062 -0.000043  0.000016\n",
      "13  0.000059  0.000032  0.000055  0.000057\n",
      "14 -0.000011  0.000061  0.000031  0.000055\n",
      "15  0.000053  0.000046  0.000024  0.000042\n",
      "16  0.000046  0.000036  0.000050  0.000046\n",
      "17 -0.000291  0.000032 -0.000026  0.000009\n",
      "18  0.000031 -0.000036  0.000021  0.000030\n",
      "19 -0.000837       NaN  0.000013  0.000047\n"
     ]
    }
   ],
   "source": [
    "df_min = pd.DataFrame()\n",
    "\n",
    "PDO = []\n",
    "PDC = []\n",
    "HCO = []\n",
    "HCC = []\n",
    "\n",
    "groups = [PD_eyesOpen, PD_eyesClosed, HC_eyesOpen, HC_eyesClosed]\n",
    "\n",
    "# for group in groups:\n",
    "#     l = len(group)\n",
    "for i in range(l):\n",
    "\n",
    "    PDO.append(np.min(groups[0][i]))\n",
    "    HCO.append(np.min(groups[2][i]))\n",
    "    HCC.append(np.min(groups[3][i]))\n",
    "\n",
    "    if i == 19:\n",
    "        PDC.append(None)\n",
    "    else :PDC.append(np.min(groups[1][i]))\n",
    "\n",
    "df_min['PDO']  = PDO\n",
    "df_min['PDC']  = PDC\n",
    "df_min['HCO']  = HCO\n",
    "df_min['HCC']  = HCC\n",
    "\n",
    "print(df_min)"
   ]
  },
  {
   "cell_type": "code",
   "execution_count": 17,
   "id": "40d083b9-2482-4310-91c3-4af903080456",
   "metadata": {},
   "outputs": [
    {
     "name": "stdout",
     "output_type": "stream",
     "text": [
      "Otwarte oczy\n",
      "211.0 0.7763905055505131\n",
      "Zamknięte oczy\n",
      "191.0 0.9887910583324784\n"
     ]
    }
   ],
   "source": [
    "print('Otwarte oczy')\n",
    "stat, p = ss.mannwhitneyu(df_min['PDO'], df_min['HCO'])\n",
    "print(stat, p)\n",
    "print('Zamknięte oczy')\n",
    "stat, p = ss.mannwhitneyu(df_min['PDC'][:-1], df_min['HCC'])\n",
    "print(stat, p)"
   ]
  },
  {
   "cell_type": "code",
   "execution_count": 23,
   "id": "f82f7d1d-50e9-4679-bb47-46752b2ac861",
   "metadata": {},
   "outputs": [
    {
     "name": "stdout",
     "output_type": "stream",
     "text": [
      "Średnie minimum\n",
      "PDO\n",
      "-0.000681\n",
      "PDC\n",
      "-0.00038\n",
      "HCO\n",
      "-0.000434\n",
      "HCC\n",
      "-0.000536\n"
     ]
    }
   ],
   "source": [
    "print('Średnie minimum')\n",
    "print('PDO')\n",
    "print(np.round(np.mean(df_min['PDO']), 6))\n",
    "print('PDC')\n",
    "print(np.round(np.mean(df_min['PDC']), 6))\n",
    "print('HCO')\n",
    "print(np.round(np.mean(df_min['HCO']), 6))\n",
    "print('HCC')\n",
    "print(np.round(np.mean(df_min['HCC']), 6))"
   ]
  },
  {
   "cell_type": "markdown",
   "id": "97e219a0-c95f-4800-9a58-01a903b25b22",
   "metadata": {},
   "source": [
    "# MAKSIMUM"
   ]
  },
  {
   "cell_type": "code",
   "execution_count": 18,
   "id": "25bb8015-56ab-47ab-94d2-75cc931ef49a",
   "metadata": {},
   "outputs": [
    {
     "name": "stdout",
     "output_type": "stream",
     "text": [
      "         PDO       PDC       HCO       HCC\n",
      "0   0.003158  0.000163  0.001711  0.006185\n",
      "1   0.000119  0.000104  0.000129  0.000134\n",
      "2   0.000100  0.001611  0.012176  0.010596\n",
      "3   0.001021  0.000186  0.000552  0.000175\n",
      "4   0.001231  0.001423  0.000571  0.000205\n",
      "5   0.002575  0.000141  0.000110  0.000105\n",
      "6   0.000122  0.000166  0.000122  0.000109\n",
      "7   0.000132  0.000554  0.000149  0.000420\n",
      "8   0.000267  0.000523  0.000095  0.000141\n",
      "9   0.000222  0.003835  0.000120  0.000129\n",
      "10  0.003214  0.000123  0.000143  0.000134\n",
      "11  0.000111  0.000141  0.000130  0.000318\n",
      "12  0.000236  0.000111  0.000067  0.000066\n",
      "13  0.000110  0.000170  0.000108  0.000117\n",
      "14  0.000149  0.000097  0.000154  0.000121\n",
      "15  0.000089  0.000106  0.000140  0.000113\n",
      "16  0.000097  0.000141  0.000153  0.000110\n",
      "17  0.000402  0.000224  0.000131  0.000146\n",
      "18  0.000215  0.000284  0.000117  0.000133\n",
      "19  0.001372       NaN  0.000143  0.000265\n"
     ]
    }
   ],
   "source": [
    "df_max = pd.DataFrame()\n",
    "\n",
    "PDO = []\n",
    "PDC = []\n",
    "HCO = []\n",
    "HCC = []\n",
    "\n",
    "groups = [PD_eyesOpen, PD_eyesClosed, HC_eyesOpen, HC_eyesClosed]\n",
    "\n",
    "# for group in groups:\n",
    "#     l = len(group)\n",
    "for i in range(l):\n",
    "\n",
    "    PDO.append(np.max(groups[0][i]))\n",
    "    HCO.append(np.max(groups[2][i]))\n",
    "    HCC.append(np.max(groups[3][i]))\n",
    "\n",
    "    if i == 19:\n",
    "        PDC.append(None)\n",
    "    else :PDC.append(np.max(groups[1][i]))\n",
    "\n",
    "df_max['PDO']  = PDO\n",
    "df_max['PDC']  = PDC\n",
    "df_max['HCO']  = HCO\n",
    "df_max['HCC']  = HCC\n",
    "\n",
    "print(df_max)"
   ]
  },
  {
   "cell_type": "code",
   "execution_count": 19,
   "id": "923660c9-3df9-4244-9525-0546134a7c9e",
   "metadata": {},
   "outputs": [
    {
     "name": "stdout",
     "output_type": "stream",
     "text": [
      "Otwarte oczy\n",
      "238.0 0.31040225614615824\n",
      "Zamknięte oczy\n",
      "222.0 0.37611694136576623\n"
     ]
    }
   ],
   "source": [
    "print('Otwarte oczy')\n",
    "stat, p = ss.mannwhitneyu(df_max['PDO'], df_max['HCO'])\n",
    "print(stat, p)\n",
    "print('Zamknięte oczy')\n",
    "stat, p = ss.mannwhitneyu(df_max['PDC'][:-1], df_max['HCC'])\n",
    "print(stat, p)"
   ]
  },
  {
   "cell_type": "code",
   "execution_count": 26,
   "id": "bd184a7c-1f35-43d0-8b2a-d3a19995b4f0",
   "metadata": {},
   "outputs": [
    {
     "name": "stdout",
     "output_type": "stream",
     "text": [
      "Średnie maksimum\n",
      "PDO\n",
      "0.000747\n",
      "PDC\n",
      "0.000532\n",
      "HCO\n",
      "0.000851\n",
      "HCC\n",
      "0.000986\n"
     ]
    }
   ],
   "source": [
    "print('Średnie maksimum')\n",
    "print('PDO')\n",
    "print(np.round(np.mean(df_max['PDO']), 6))\n",
    "print('PDC')\n",
    "print(np.round(np.mean(df_max['PDC']), 6))\n",
    "print('HCO')\n",
    "print(np.round(np.mean(df_max['HCO']), 6))\n",
    "print('HCC')\n",
    "print(np.round(np.mean(df_max['HCC']), 6))"
   ]
  },
  {
   "cell_type": "markdown",
   "id": "365918aa-92b2-4e7f-baf9-39d47817801b",
   "metadata": {},
   "source": [
    "# ROZSTĘP"
   ]
  },
  {
   "cell_type": "code",
   "execution_count": 20,
   "id": "13b04379-37ac-4783-b82a-416d798501bb",
   "metadata": {},
   "outputs": [
    {
     "name": "stdout",
     "output_type": "stream",
     "text": [
      "         PDO       PDC       HCO       HCC\n",
      "0   0.005679  0.000115  0.003971  0.008878\n",
      "1   0.000064  0.000046  0.000122  0.000094\n",
      "2   0.000038  0.003506  0.018684  0.016728\n",
      "3   0.001521  0.000178  0.000764  0.000520\n",
      "4   0.004918  0.002529  0.000580  0.000402\n",
      "5   0.005204  0.000092  0.000060  0.000051\n",
      "6   0.000066  0.000153  0.000081  0.000046\n",
      "7   0.000084  0.000797  0.000180  0.001443\n",
      "8   0.000380  0.000594  0.000056  0.000122\n",
      "9   0.000240  0.008210  0.000086  0.000113\n",
      "10  0.006762  0.000091  0.000112  0.000087\n",
      "11  0.000049  0.000105  0.000112  0.001190\n",
      "12  0.000182  0.000049  0.000110  0.000050\n",
      "13  0.000051  0.000138  0.000053  0.000060\n",
      "14  0.000160  0.000036  0.000123  0.000065\n",
      "15  0.000036  0.000060  0.000116  0.000071\n",
      "16  0.000050  0.000104  0.000103  0.000063\n",
      "17  0.000692  0.000192  0.000157  0.000137\n",
      "18  0.000184  0.000320  0.000096  0.000103\n",
      "19  0.002209       NaN  0.000130  0.000218\n"
     ]
    }
   ],
   "source": [
    "df_gap = pd.DataFrame()\n",
    "\n",
    "PDO = []\n",
    "PDC = []\n",
    "HCO = []\n",
    "HCC = []\n",
    "\n",
    "groups = [PD_eyesOpen, PD_eyesClosed, HC_eyesOpen, HC_eyesClosed]\n",
    "\n",
    "# for group in groups:\n",
    "#     l = len(group)\n",
    "for i in range(l):\n",
    "\n",
    "    PDO.append(np.max(groups[0][i]) - np.min(groups[0][i]))\n",
    "    HCO.append(np.max(groups[2][i]) - np.min(groups[2][i]))\n",
    "    HCC.append(np.max(groups[3][i]) - np.min(groups[3][i]))\n",
    "\n",
    "    if i == 19:\n",
    "        PDC.append(None)\n",
    "    else :PDC.append(np.max(groups[1][i]) - np.min(groups[1][i]))\n",
    "\n",
    "df_gap['PDO']  = PDO\n",
    "df_gap['PDC']  = PDC\n",
    "df_gap['HCO']  = HCO\n",
    "df_gap['HCC']  = HCC\n",
    "\n",
    "print(df_gap)"
   ]
  },
  {
   "cell_type": "code",
   "execution_count": 21,
   "id": "7a4efd51-5b95-49f7-9692-782afd0667b7",
   "metadata": {},
   "outputs": [
    {
     "name": "stdout",
     "output_type": "stream",
     "text": [
      "Otwarte oczy\n",
      "218.0 0.6359445511344555\n",
      "Zamknięte oczy\n",
      "203.0 0.7254235474231112\n"
     ]
    }
   ],
   "source": [
    "print('Otwarte oczy')\n",
    "stat, p = ss.mannwhitneyu(df_gap['PDO'], df_gap['HCO'])\n",
    "print(stat, p)\n",
    "print('Zamknięte oczy')\n",
    "stat, p = ss.mannwhitneyu(df_gap['PDC'][:-1], df_gap['HCC'])\n",
    "print(stat, p)"
   ]
  },
  {
   "cell_type": "code",
   "execution_count": 29,
   "id": "2f6e11d6-9a97-4fe9-b1da-736c51268437",
   "metadata": {},
   "outputs": [
    {
     "name": "stdout",
     "output_type": "stream",
     "text": [
      "Średni rozstęp\n",
      "PDO\n",
      "0.00143\n",
      "PDC\n",
      "0.00091\n",
      "HCO\n",
      "0.00128\n",
      "HCC\n",
      "0.00152\n"
     ]
    }
   ],
   "source": [
    "print('Średni rozstęp')\n",
    "print('PDO')\n",
    "print(np.round(np.mean(df_gap['PDO']), 5))\n",
    "print('PDC')\n",
    "print(np.round(np.mean(df_gap['PDC']), 5))\n",
    "print('HCO')\n",
    "print(np.round(np.mean(df_gap['HCO']), 5))\n",
    "print('HCC')\n",
    "print(np.round(np.mean(df_gap['HCC']), 5))"
   ]
  },
  {
   "cell_type": "markdown",
   "id": "79b4c346-d203-498a-a7bf-d3da25a9436a",
   "metadata": {},
   "source": [
    "# Q1"
   ]
  },
  {
   "cell_type": "code",
   "execution_count": 22,
   "id": "970d5b0b-2bce-4f4e-8422-f08f9e659d78",
   "metadata": {},
   "outputs": [
    {
     "name": "stdout",
     "output_type": "stream",
     "text": [
      "         PDO           PDC       HCO       HCC\n",
      "0  -0.000014  8.069212e-05 -0.000205 -0.000185\n",
      "1   0.000082  7.845417e-05  0.000072  0.000082\n",
      "2   0.000076  2.787879e-07 -0.000059 -0.000059\n",
      "3   0.000065  7.686955e-05  0.000072  0.000071\n",
      "4   0.000077  1.148879e-05  0.000068  0.000074\n",
      "5  -0.000002  8.351667e-05  0.000074  0.000074\n",
      "6   0.000079  8.004576e-05  0.000081  0.000082\n",
      "7   0.000073  6.407826e-05  0.000042  0.000064\n",
      "8   0.000061  4.719470e-05  0.000069  0.000059\n",
      "9   0.000076  2.988545e-05  0.000075  0.000077\n",
      "10  0.000019  8.208152e-05  0.000075  0.000077\n",
      "11  0.000081  8.228364e-05  0.000064  0.000058\n",
      "12  0.000082  8.098061e-05  0.000016  0.000032\n",
      "13  0.000079  7.212583e-05  0.000077  0.000081\n",
      "14  0.000064  7.597235e-05  0.000072  0.000079\n",
      "15  0.000071  7.187121e-05  0.000066  0.000070\n",
      "16  0.000066  7.378697e-05  0.000080  0.000073\n",
      "17  0.000065  7.716977e-05  0.000040  0.000046\n",
      "18  0.000074  5.704750e-05  0.000073  0.000074\n",
      "19 -0.000020           NaN  0.000067  0.000079\n"
     ]
    }
   ],
   "source": [
    "df_q1 = pd.DataFrame()\n",
    "\n",
    "PDO = []\n",
    "PDC = []\n",
    "HCO = []\n",
    "HCC = []\n",
    "\n",
    "groups = [PD_eyesOpen, PD_eyesClosed, HC_eyesOpen, HC_eyesClosed]\n",
    "\n",
    "# for group in groups:\n",
    "#     l = len(group)\n",
    "for i in range(l):\n",
    "\n",
    "    PDO.append(np.quantile(groups[0][i], 0.25))\n",
    "    HCO.append(np.quantile(groups[2][i], 0.25))\n",
    "    HCC.append(np.quantile(groups[3][i], 0.25))\n",
    "\n",
    "    if i == 19:\n",
    "        PDC.append(None)\n",
    "    else :PDC.append(np.quantile(groups[1][i], 0.25))\n",
    "\n",
    "df_q1['PDO']  = PDO\n",
    "df_q1['PDC']  = PDC\n",
    "df_q1['HCO']  = HCO\n",
    "df_q1['HCC']  = HCC\n",
    "\n",
    "print(df_q1)"
   ]
  },
  {
   "cell_type": "code",
   "execution_count": 23,
   "id": "27fdeb43-15bf-4630-822c-7faf18035dbe",
   "metadata": {},
   "outputs": [
    {
     "name": "stdout",
     "output_type": "stream",
     "text": [
      "Otwarte oczy\n",
      "225.0 0.507505297961912\n",
      "Zamknięte oczy\n",
      "217.0 0.45652220312468594\n"
     ]
    }
   ],
   "source": [
    "print('Otwarte oczy')\n",
    "stat, p = ss.mannwhitneyu(df_q1['PDO'], df_q1['HCO'])\n",
    "print(stat, p)\n",
    "print('Zamknięte oczy')\n",
    "stat, p = ss.mannwhitneyu(df_q1['PDC'][:-1], df_q1['HCC'])\n",
    "print(stat, p)"
   ]
  },
  {
   "cell_type": "code",
   "execution_count": 33,
   "id": "2e5ba74c-de61-47f2-822b-bae01cb41a40",
   "metadata": {},
   "outputs": [
    {
     "name": "stdout",
     "output_type": "stream",
     "text": [
      "Średni q1\n",
      "PDO\n",
      "5.77e-05\n",
      "PDC\n",
      "6.45e-05\n",
      "HCO\n",
      "4.59e-05\n",
      "HCC\n",
      "5.04e-05\n"
     ]
    }
   ],
   "source": [
    "print('Średni q1')\n",
    "print('PDO')\n",
    "print(np.round(np.mean(df_q1['PDO']), 7))\n",
    "print('PDC')\n",
    "print(np.round(np.mean(df_q1['PDC']), 7))\n",
    "print('HCO')\n",
    "print(np.round(np.mean(df_q1['HCO']), 7))\n",
    "print('HCC')\n",
    "print(np.round(np.mean(df_q1['HCC']), 7))"
   ]
  },
  {
   "cell_type": "markdown",
   "id": "bd9f041a-f831-4d4e-9bac-cb10cdc786f5",
   "metadata": {},
   "source": [
    "# Q3"
   ]
  },
  {
   "cell_type": "code",
   "execution_count": 24,
   "id": "e07a3195-452d-4cf7-9070-18ded8ca7db6",
   "metadata": {},
   "outputs": [
    {
     "name": "stdout",
     "output_type": "stream",
     "text": [
      "         PDO       PDC       HCO       HCC\n",
      "0   0.000161  0.000092  0.000399  0.000371\n",
      "1   0.000092  0.000086  0.000090  0.000097\n",
      "2   0.000081  0.000169  0.000212  0.000212\n",
      "3   0.000115  0.000093  0.000104  0.000104\n",
      "4   0.000097  0.000160  0.000089  0.000112\n",
      "5   0.000164  0.000093  0.000081  0.000082\n",
      "6   0.000089  0.000095  0.000089  0.000089\n",
      "7   0.000088  0.000094  0.000069  0.000084\n",
      "8   0.000088  0.000124  0.000075  0.000098\n",
      "9   0.000091  0.000138  0.000088  0.000092\n",
      "10  0.000147  0.000094  0.000091  0.000092\n",
      "11  0.000089  0.000095  0.000083  0.000094\n",
      "12  0.000092  0.000088  0.000020  0.000035\n",
      "13  0.000086  0.000085  0.000084  0.000090\n",
      "14  0.000078  0.000081  0.000088  0.000089\n",
      "15  0.000076  0.000080  0.000076  0.000082\n",
      "16  0.000073  0.000091  0.000089  0.000082\n",
      "17  0.000098  0.000092  0.000086  0.000097\n",
      "18  0.000090  0.000095  0.000084  0.000089\n",
      "19  0.000154       NaN  0.000102  0.000093\n"
     ]
    }
   ],
   "source": [
    "df_q3 = pd.DataFrame()\n",
    "\n",
    "PDO = []\n",
    "PDC = []\n",
    "HCO = []\n",
    "HCC = []\n",
    "\n",
    "groups = [PD_eyesOpen, PD_eyesClosed, HC_eyesOpen, HC_eyesClosed]\n",
    "\n",
    "# for group in groups:\n",
    "#     l = len(group)\n",
    "for i in range(l):\n",
    "\n",
    "    PDO.append(np.quantile(groups[0][i], 0.75))\n",
    "    HCO.append(np.quantile(groups[2][i], 0.75))\n",
    "    HCC.append(np.quantile(groups[3][i], 0.75))\n",
    "\n",
    "    if i == 19:\n",
    "        PDC.append(None)\n",
    "    else :PDC.append(np.quantile(groups[1][i], 0.75))\n",
    "\n",
    "df_q3['PDO']  = PDO\n",
    "df_q3['PDC']  = PDC\n",
    "df_q3['HCO']  = HCO\n",
    "df_q3['HCC']  = HCC\n",
    "\n",
    "print(df_q3)"
   ]
  },
  {
   "cell_type": "code",
   "execution_count": 25,
   "id": "96ddade6-2e40-4551-87a4-4240d772407d",
   "metadata": {},
   "outputs": [
    {
     "name": "stdout",
     "output_type": "stream",
     "text": [
      "Otwarte oczy\n",
      "251.0 0.17192970543827346\n",
      "Zamknięte oczy\n",
      "203.0 0.7254235474231112\n"
     ]
    }
   ],
   "source": [
    "print('Otwarte oczy')\n",
    "stat, p = ss.mannwhitneyu(df_q3['PDO'], df_q3['HCO'])\n",
    "print(stat, p)\n",
    "print('Zamknięte oczy')\n",
    "stat, p = ss.mannwhitneyu(df_q3['PDC'][:-1], df_q3['HCC'])\n",
    "print(stat, p)"
   ]
  },
  {
   "cell_type": "code",
   "execution_count": 37,
   "id": "c926fa54-91a7-4dbc-a28f-ac84c0a878da",
   "metadata": {},
   "outputs": [
    {
     "name": "stdout",
     "output_type": "stream",
     "text": [
      "Średni q3\n",
      "PDO\n",
      "0.000103\n",
      "PDC\n",
      "0.000102\n",
      "HCO\n",
      "0.000105\n",
      "HCC\n",
      "0.000109\n"
     ]
    }
   ],
   "source": [
    "print('Średni q3')\n",
    "print('PDO')\n",
    "print(np.round(np.mean(df_q3['PDO']), 6))\n",
    "print('PDC')\n",
    "print(np.round(np.mean(df_q3['PDC']), 6))\n",
    "print('HCO')\n",
    "print(np.round(np.mean(df_q3['HCO']), 6))\n",
    "print('HCC')\n",
    "print(np.round(np.mean(df_q3['HCC']), 6))"
   ]
  },
  {
   "cell_type": "markdown",
   "id": "fff5fb81-9690-4fd8-ab3a-16f995037a4c",
   "metadata": {},
   "source": [
    "# IQR"
   ]
  },
  {
   "cell_type": "code",
   "execution_count": 26,
   "id": "4af1012e-76ab-4382-8356-5de28f4d76f5",
   "metadata": {},
   "outputs": [
    {
     "name": "stdout",
     "output_type": "stream",
     "text": [
      "         PDO       PDC       HCO       HCC\n",
      "0   0.000175  0.000011  0.000604  0.000556\n",
      "1   0.000009  0.000007  0.000018  0.000015\n",
      "2   0.000005  0.000168  0.000271  0.000271\n",
      "3   0.000049  0.000016  0.000032  0.000032\n",
      "4   0.000020  0.000148  0.000021  0.000038\n",
      "5   0.000166  0.000010  0.000007  0.000008\n",
      "6   0.000010  0.000015  0.000008  0.000006\n",
      "7   0.000014  0.000030  0.000027  0.000020\n",
      "8   0.000027  0.000077  0.000006  0.000039\n",
      "9   0.000015  0.000108  0.000013  0.000015\n",
      "10  0.000128  0.000011  0.000016  0.000015\n",
      "11  0.000008  0.000012  0.000019  0.000036\n",
      "12  0.000011  0.000007  0.000004  0.000003\n",
      "13  0.000007  0.000013  0.000008  0.000008\n",
      "14  0.000014  0.000005  0.000016  0.000010\n",
      "15  0.000005  0.000008  0.000011  0.000011\n",
      "16  0.000007  0.000017  0.000010  0.000009\n",
      "17  0.000033  0.000015  0.000046  0.000052\n",
      "18  0.000017  0.000038  0.000011  0.000015\n",
      "19  0.000175       NaN  0.000035  0.000014\n"
     ]
    }
   ],
   "source": [
    "df_interquartile_range = pd.DataFrame()\n",
    "\n",
    "PDO = []\n",
    "PDC = []\n",
    "HCO = []\n",
    "HCC = []\n",
    "\n",
    "groups = [PD_eyesOpen, PD_eyesClosed, HC_eyesOpen, HC_eyesClosed]\n",
    "\n",
    "# for group in groups:\n",
    "#     l = len(group)\n",
    "for i in range(l):\n",
    "\n",
    "    PDO.append(np.quantile(groups[0][i], 0.75) - np.quantile(groups[0][i], 0.25))\n",
    "    HCO.append(np.quantile(groups[2][i], 0.75) - np.quantile(groups[2][i], 0.25))\n",
    "    HCC.append(np.quantile(groups[3][i], 0.75) - np.quantile(groups[3][i], 0.25))\n",
    "\n",
    "    if i == 19:\n",
    "        PDC.append(None)\n",
    "    else :PDC.append(np.quantile(groups[1][i], 0.75) - np.quantile(groups[1][i], 0.25))\n",
    "\n",
    "df_interquartile_range['PDO']  = PDO\n",
    "df_interquartile_range['PDC']  = PDC\n",
    "df_interquartile_range['HCO']  = HCO\n",
    "df_interquartile_range['HCC']  = HCC\n",
    "\n",
    "print(df_interquartile_range)"
   ]
  },
  {
   "cell_type": "code",
   "execution_count": 28,
   "id": "da43508f-c11b-40cf-a25c-44e6a1ece1d3",
   "metadata": {},
   "outputs": [
    {
     "name": "stdout",
     "output_type": "stream",
     "text": [
      "Otwarte oczy\n",
      "201.0 0.9892089047911196\n",
      "Zamknięte oczy\n",
      "185.0 0.899384365387643\n"
     ]
    }
   ],
   "source": [
    "print('Otwarte oczy')\n",
    "stat, p = ss.mannwhitneyu(df_interquartile_range['PDO'], df_interquartile_range['HCO'])\n",
    "print(stat, p)\n",
    "print('Zamknięte oczy')\n",
    "stat, p = ss.mannwhitneyu(df_interquartile_range['PDC'][:-1], df_interquartile_range['HCC'])\n",
    "print(stat, p)"
   ]
  },
  {
   "cell_type": "code",
   "execution_count": 40,
   "id": "eda53291-21f9-4420-a20d-7f87662ee9a5",
   "metadata": {},
   "outputs": [
    {
     "name": "stdout",
     "output_type": "stream",
     "text": [
      "Średnie IQR\n",
      "PDO\n",
      "4.48e-05\n",
      "PDC\n",
      "3.77e-05\n",
      "HCO\n",
      "5.91e-05\n",
      "HCC\n",
      "5.88e-05\n"
     ]
    }
   ],
   "source": [
    "print('Średnie IQR')\n",
    "print('PDO')\n",
    "print(np.round(np.mean(df_interquartile_range['PDO']), 7))\n",
    "print('PDC')\n",
    "print(np.round(np.mean(df_interquartile_range['PDC']), 7))\n",
    "print('HCO')\n",
    "print(np.round(np.mean(df_interquartile_range['HCO']), 7))\n",
    "print('HCC')\n",
    "print(np.round(np.mean(df_interquartile_range['HCC']), 7))"
   ]
  },
  {
   "cell_type": "markdown",
   "id": "d3b99ebb-1a62-4a06-afef-e8b1f50a6c26",
   "metadata": {},
   "source": [
    "# KURTOZA"
   ]
  },
  {
   "cell_type": "code",
   "execution_count": 29,
   "id": "7ff5b6a1-8245-4b3d-9292-ec04c694234d",
   "metadata": {},
   "outputs": [
    {
     "name": "stdout",
     "output_type": "stream",
     "text": [
      "            PDO        PDC         HCO         HCC\n",
      "0     17.814968   0.266377    0.194790   36.145842\n",
      "1      0.236269   0.163717    0.562092    0.529468\n",
      "2      0.428547  15.847822  122.178142   85.827062\n",
      "3     45.905108   0.702720   20.552433   40.625430\n",
      "4   2463.055806  25.183492   99.576113    3.131141\n",
      "5     52.435427   2.410258    1.457993    0.092356\n",
      "6      0.437617   0.510150    3.817769    0.435641\n",
      "7     -0.245023  45.405352   -0.313636  272.788431\n",
      "8      7.409224  -0.649828    0.247799   -1.002116\n",
      "9      5.333294  71.757383    0.216111    1.150892\n",
      "10    41.590671   4.389846    0.721695   -0.095752\n",
      "11    -0.068926   1.086496   -0.273006   86.423271\n",
      "12    43.871862   0.424478   23.800272    9.920859\n",
      "13     0.241376   2.110640    0.276323    0.369026\n",
      "14     1.404463   0.217412    0.704819    0.088378\n",
      "15     0.452667   0.167297    2.154899    0.220749\n",
      "16     0.334418   0.070316    5.859975    0.170849\n",
      "17    11.582872  10.241299   -1.273228   -1.341967\n",
      "18     8.569168  -0.050011    0.375722    0.107889\n",
      "19     5.552331        NaN   -0.982452   33.197323\n"
     ]
    }
   ],
   "source": [
    "df_kurt = pd.DataFrame()\n",
    "\n",
    "PDO = []\n",
    "PDC = []\n",
    "HCO = []\n",
    "HCC = []\n",
    "\n",
    "groups = [PD_eyesOpen, PD_eyesClosed, HC_eyesOpen, HC_eyesClosed]\n",
    "\n",
    "# for group in groups:\n",
    "#     l = len(group)\n",
    "for i in range(l):\n",
    "\n",
    "    PDO.append(ss.kurtosis(groups[0][i]))\n",
    "    HCO.append(ss.kurtosis(groups[2][i]))\n",
    "    HCC.append(ss.kurtosis(groups[3][i]))\n",
    "\n",
    "    if i == 19:\n",
    "        PDC.append(None)\n",
    "    else :PDC.append(ss.kurtosis(groups[1][i]))\n",
    "\n",
    "df_kurt['PDO']  = PDO\n",
    "df_kurt['PDC']  = PDC\n",
    "df_kurt['HCO']  = HCO\n",
    "df_kurt['HCC']  = HCC\n",
    "\n",
    "print(df_kurt)"
   ]
  },
  {
   "cell_type": "code",
   "execution_count": 30,
   "id": "6a794149-c2d6-4bba-b16e-5c6c2221a28f",
   "metadata": {},
   "outputs": [
    {
     "name": "stdout",
     "output_type": "stream",
     "text": [
      "Otwarte oczy\n",
      "253.0 0.1555699325877425\n",
      "Zamknięte oczy\n",
      "189.0 0.9887910583324784\n"
     ]
    }
   ],
   "source": [
    "print('Otwarte oczy')\n",
    "stat, p = ss.mannwhitneyu(df_kurt['PDO'], df_kurt['HCO'])\n",
    "print(stat, p)\n",
    "print('Zamknięte oczy')\n",
    "stat, p = ss.mannwhitneyu(df_kurt['PDC'][:-1], df_kurt['HCC'])\n",
    "print(stat, p)"
   ]
  },
  {
   "cell_type": "code",
   "execution_count": 42,
   "id": "8320ce85-73af-4d66-91f4-0e2511abf1a7",
   "metadata": {},
   "outputs": [
    {
     "name": "stdout",
     "output_type": "stream",
     "text": [
      "Średnia kurtoza\n",
      "PDO\n",
      "135.3171\n",
      "PDC\n",
      "9.4871\n",
      "HCO\n",
      "13.9927\n",
      "HCC\n",
      "28.4392\n"
     ]
    }
   ],
   "source": [
    "print('Średnia kurtoza')\n",
    "print('PDO')\n",
    "print(np.round(np.mean(df_kurt['PDO']), 4))\n",
    "print('PDC')\n",
    "print(np.round(np.mean(df_kurt['PDC']), 4))\n",
    "print('HCO')\n",
    "print(np.round(np.mean(df_kurt['HCO']), 4))\n",
    "print('HCC')\n",
    "print(np.round(np.mean(df_kurt['HCC']), 4))"
   ]
  },
  {
   "cell_type": "markdown",
   "id": "4b68ab0a-fa8f-4d64-a961-b0b3f7976422",
   "metadata": {},
   "source": [
    "# SKOŚNOŚĆ"
   ]
  },
  {
   "cell_type": "code",
   "execution_count": 31,
   "id": "8027f441-6705-450a-871e-ffa3de9e0529",
   "metadata": {},
   "outputs": [
    {
     "name": "stdout",
     "output_type": "stream",
     "text": [
      "          PDO       PDC       HCO       HCC\n",
      "0    0.525392 -0.074067 -0.223309  2.715592\n",
      "1    0.022531 -0.097869 -0.369520 -0.330733\n",
      "2    0.165156 -0.103238  0.362658  1.647094\n",
      "3    0.816215  0.311438  0.091971 -4.488429\n",
      "4  -22.049335  0.579956  7.926416 -0.867877\n",
      "5    0.397607  0.019754  0.541197  0.119015\n",
      "6    0.180746  0.007068 -0.288234 -0.243160\n",
      "7    0.150257  2.137774 -0.357192 -2.609564\n",
      "8    0.545949  0.100496 -0.078336  0.181452\n",
      "9    0.797997 -1.082798 -0.071985 -0.486330\n",
      "10  -1.098693 -1.161948  0.169274  0.120895\n",
      "11   0.114804 -0.157595 -0.035753 -2.629321\n",
      "12   4.413980  0.088799 -0.515631  0.624571\n",
      "13  -0.102347  0.285151  0.055158  0.041777\n",
      "14   0.272481  0.019032  0.161036  0.012871\n",
      "15  -0.088307  0.058557 -0.004043  0.049848\n",
      "16   0.059158  0.033624  1.300186 -0.027551\n",
      "17  -0.637216  1.675161  0.294655  0.208983\n",
      "18   1.352812  0.238439  0.025324 -0.046482\n",
      "19   0.509754       NaN -0.158528  2.643176\n"
     ]
    }
   ],
   "source": [
    "df_skew = pd.DataFrame()\n",
    "\n",
    "PDO = []\n",
    "PDC = []\n",
    "HCO = []\n",
    "HCC = []\n",
    "\n",
    "groups = [PD_eyesOpen, PD_eyesClosed, HC_eyesOpen, HC_eyesClosed]\n",
    "\n",
    "# for group in groups:\n",
    "#     l = len(group)\n",
    "for i in range(l):\n",
    "\n",
    "    PDO.append(ss.skew(groups[0][i]))\n",
    "    HCO.append(ss.skew(groups[2][i]))\n",
    "    HCC.append(ss.skew(groups[3][i]))\n",
    "\n",
    "    if i == 19:\n",
    "        PDC.append(None)\n",
    "    else :PDC.append(ss.skew(groups[1][i]))\n",
    "\n",
    "df_skew['PDO']  = PDO\n",
    "df_skew['PDC']  = PDC\n",
    "df_skew['HCO']  = HCO\n",
    "df_skew['HCC']  = HCC\n",
    "\n",
    "print(df_skew)"
   ]
  },
  {
   "cell_type": "code",
   "execution_count": 32,
   "id": "e5ee6ef0-c84d-4017-9225-afa4672d115d",
   "metadata": {},
   "outputs": [
    {
     "name": "stdout",
     "output_type": "stream",
     "text": [
      "Otwarte oczy\n",
      "247.0 0.20845355458876536\n",
      "Zamknięte oczy\n",
      "209.0 0.6031994066338354\n"
     ]
    }
   ],
   "source": [
    "print('Otwarte oczy')\n",
    "stat, p = ss.mannwhitneyu(df_skew['PDO'], df_skew['HCO'])\n",
    "print(stat, p)\n",
    "print('Zamknięte oczy')\n",
    "stat, p = ss.mannwhitneyu(df_skew['PDC'][:-1], df_skew['HCC'])\n",
    "print(stat, p)"
   ]
  },
  {
   "cell_type": "code",
   "execution_count": 8,
   "id": "f655fb13-c3ad-443c-907d-07037fd0086b",
   "metadata": {},
   "outputs": [
    {
     "name": "stdout",
     "output_type": "stream",
     "text": [
      "Średnia skośność\n",
      "PDO\n",
      "-0.6826\n",
      "PDC\n",
      "0.1515\n",
      "HCO\n",
      "0.4413\n",
      "HCC\n",
      "-0.1682\n"
     ]
    }
   ],
   "source": [
    "print('Średnia skośność')\n",
    "print('PDO')\n",
    "print(np.round(np.mean(df_skew['PDO']), 4))\n",
    "print('PDC')\n",
    "print(np.round(np.mean(df_skew['PDC']), 4))\n",
    "print('HCO')\n",
    "print(np.round(np.mean(df_skew['HCO']), 4))\n",
    "print('HCC')\n",
    "print(np.round(np.mean(df_skew['HCC']), 4))"
   ]
  },
  {
   "cell_type": "markdown",
   "id": "a5453818-7b63-4b5c-902e-74dbf1dd4157",
   "metadata": {},
   "source": [
    "# ZMIENNOŚĆ"
   ]
  },
  {
   "cell_type": "code",
   "execution_count": 34,
   "id": "61ac2e59-8ade-4518-b6b3-2d4e760b91d7",
   "metadata": {},
   "outputs": [],
   "source": [
    "def coef_of_variation(data):\n",
    "    mi = np.mean(data)\n",
    "    s = np.std(data)\n",
    "    return s/mi"
   ]
  },
  {
   "cell_type": "code",
   "execution_count": 35,
   "id": "be108ceb-15b2-4d54-83c4-11b49728b5b9",
   "metadata": {},
   "outputs": [
    {
     "name": "stdout",
     "output_type": "stream",
     "text": [
      "         PDO       PDC       HCO       HCC\n",
      "0   5.062067  0.095785  3.269279  3.442305\n",
      "1   0.080702  0.066408  0.169568  0.133459\n",
      "2   0.052597  1.881658  6.780707  6.656817\n",
      "3   0.533225  0.150945  0.358921  0.364826\n",
      "4   0.389626  1.229207  0.392962  0.314548\n",
      "5   2.685279  0.092676  0.071086  0.078680\n",
      "6   0.093974  0.118764  0.076739  0.058838\n",
      "7   0.122478  0.537014  0.330091  0.303044\n",
      "8   0.314691  0.473083  0.064361  0.301786\n",
      "9   0.146081  3.406674  0.121278  0.141631\n",
      "10  3.479481  0.108638  0.154508  0.130829\n",
      "11  0.067800  0.112866  0.187537  0.324804\n",
      "12  0.127662  0.059813  0.315424  0.097239\n",
      "13  0.061141  0.124545  0.073478  0.074709\n",
      "14  0.152538  0.050693  0.151403  0.088970\n",
      "15  0.051213  0.084284  0.126157  0.108996\n",
      "16  0.078746  0.151131  0.099651  0.089466\n",
      "17  0.519650  0.159433  0.404186  0.382557\n",
      "18  0.174955  0.348174  0.101702  0.135565\n",
      "19  1.759824       NaN  0.242240  0.132055\n"
     ]
    }
   ],
   "source": [
    "df_coef_var = pd.DataFrame()\n",
    "\n",
    "PDO = []\n",
    "PDC = []\n",
    "HCO = []\n",
    "HCC = []\n",
    "\n",
    "groups = [PD_eyesOpen, PD_eyesClosed, HC_eyesOpen, HC_eyesClosed]\n",
    "\n",
    "# for group in groups:\n",
    "#     l = len(group)\n",
    "for i in range(l):\n",
    "\n",
    "    PDO.append(coef_of_variation(groups[0][i]))\n",
    "    HCO.append(coef_of_variation(groups[2][i]))\n",
    "    HCC.append(coef_of_variation(groups[3][i]))\n",
    "\n",
    "    if i == 19:\n",
    "        PDC.append(None)\n",
    "    else :PDC.append(coef_of_variation(groups[1][i]))\n",
    "\n",
    "df_coef_var['PDO']  = PDO\n",
    "df_coef_var['PDC']  = PDC\n",
    "df_coef_var['HCO']  = HCO\n",
    "df_coef_var['HCC']  = HCC\n",
    "\n",
    "print(df_coef_var)"
   ]
  },
  {
   "cell_type": "code",
   "execution_count": 36,
   "id": "9079e349-9bf2-4f09-a902-a2367c94113f",
   "metadata": {},
   "outputs": [
    {
     "name": "stdout",
     "output_type": "stream",
     "text": [
      "Otwarte oczy\n",
      "195.0 0.9031164959895642\n",
      "Zamknięte oczy\n",
      "184.0 0.8771866087441186\n"
     ]
    }
   ],
   "source": [
    "print('Otwarte oczy')\n",
    "stat, p = ss.mannwhitneyu(df_coef_var['PDO'], df_coef_var['HCO'])\n",
    "print(stat, p)\n",
    "print('Zamknięte oczy')\n",
    "stat, p = ss.mannwhitneyu(df_coef_var['PDC'][:-1], df_coef_var['HCC'])\n",
    "print(stat, p)"
   ]
  },
  {
   "cell_type": "code",
   "execution_count": 11,
   "id": "fa6cc0f2-4eca-4399-945e-5a15adba29e3",
   "metadata": {},
   "outputs": [
    {
     "name": "stdout",
     "output_type": "stream",
     "text": [
      "Średnia zmienność\n",
      "PDO\n",
      "0.7977\n",
      "PDC\n",
      "0.4869\n",
      "HCO\n",
      "0.6746\n",
      "HCC\n",
      "0.6681\n"
     ]
    }
   ],
   "source": [
    "print('Średnia zmienność')\n",
    "print('PDO')\n",
    "print(np.round(np.mean(df_coef_var['PDO']), 4))\n",
    "print('PDC')\n",
    "print(np.round(np.mean(df_coef_var['PDC']), 4))\n",
    "print('HCO')\n",
    "print(np.round(np.mean(df_coef_var['HCO']), 4))\n",
    "print('HCC')\n",
    "print(np.round(np.mean(df_coef_var['HCC']), 4))"
   ]
  }
 ],
 "metadata": {
  "kernelspec": {
   "display_name": "Python 3 (ipykernel)",
   "language": "python",
   "name": "python3"
  },
  "language_info": {
   "codemirror_mode": {
    "name": "ipython",
    "version": 3
   },
   "file_extension": ".py",
   "mimetype": "text/x-python",
   "name": "python",
   "nbconvert_exporter": "python",
   "pygments_lexer": "ipython3",
   "version": "3.11.0"
  }
 },
 "nbformat": 4,
 "nbformat_minor": 5
}

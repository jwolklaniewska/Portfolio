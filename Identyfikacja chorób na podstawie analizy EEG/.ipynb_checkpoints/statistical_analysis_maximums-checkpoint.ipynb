{
 "cells": [
  {
   "cell_type": "markdown",
   "id": "ce1d06ae-711f-4bec-b508-2212984c3615",
   "metadata": {},
   "source": [
    "# ANALIZA STATYSTYCZNA MAKSIMUM\n",
    "- obliczenie podstawowych statystyk\n",
    "- sprawdzenie braku braku rożnic statystycznie istotnych między chorymi i zdrowymi\n",
    "- przedstawienie uśrednionych wartości statystyk"
   ]
  },
  {
   "cell_type": "code",
   "execution_count": 1,
   "id": "37772ef7-d768-4f22-bc77-08f9208401b7",
   "metadata": {},
   "outputs": [],
   "source": [
    "import mne\n",
    "import matplotlib.pyplot as plt\n",
    "import numpy as np\n",
    "import pandas as pd\n",
    "from statsmodels.tsa.stattools import acovf, acf, pacf, adfuller\n",
    "from statsmodels.tsa.arima.model import ARIMA\n",
    "import statsmodels as st\n",
    "from statsmodels.graphics.tsaplots import plot_acf, plot_pacf\n",
    "from statsmodels.tsa.arima_process import ArmaProcess, arma_acovf, arma_acf, arma_pacf\n",
    "from sklearn.linear_model import LinearRegression\n",
    "from scipy.optimize import curve_fit\n",
    "import scipy.stats as ss"
   ]
  },
  {
   "cell_type": "code",
   "execution_count": 2,
   "id": "48a9e87a-c6f6-43c9-b0ab-deb0be0a061b",
   "metadata": {},
   "outputs": [],
   "source": [
    "PD_eyesOpen = np.load('PD_eyesOpen.npy', allow_pickle=True)\n",
    "l = len(PD_eyesOpen)\n",
    "PD_eyesClosed = np.load('PD_eyesClosed.npy', allow_pickle=True)\n",
    "\n",
    "HC_eyesOpen = np.load('HC_eyesOpen.npy', allow_pickle=True)\n",
    "HC_eyesClosed = np.load('HC_eyesClosed.npy', allow_pickle=True)"
   ]
  },
  {
   "cell_type": "code",
   "execution_count": 3,
   "id": "45065688-243d-4d06-992c-752213760fbb",
   "metadata": {},
   "outputs": [],
   "source": [
    "window = 100"
   ]
  },
  {
   "cell_type": "code",
   "execution_count": 4,
   "id": "72fe4c53-4150-4e4a-9aee-59feb47719b3",
   "metadata": {},
   "outputs": [],
   "source": [
    "PD_eyesOpen_m = np.zeros(20, dtype=object)\n",
    "PD_eyesClosed_m = np.zeros(20, dtype=object)\n",
    "HC_eyesOpen_m = np.zeros(20, dtype=object)\n",
    "HC_eyesClosed_m = np.zeros(20, dtype=object)\n",
    "\n",
    "for i in range(len(PD_eyesOpen)):\n",
    "    data = PD_eyesOpen[i]\n",
    "    l = len(data)\n",
    "    maximums = np.zeros(len(data)//window+1)\n",
    "\n",
    "    k = 0\n",
    "    while k*window < l:\n",
    "        d = data[k*window:(k+1)*window]\n",
    "        maximums[k] = max(d)\n",
    "        # print(f\"k={k} Done\")\n",
    "        k += 1\n",
    "\n",
    "    PD_eyesOpen_m[i] = maximums\n",
    "    \n",
    "for i in range(len(HC_eyesOpen)):\n",
    "    data = HC_eyesOpen[i]\n",
    "    l = len(data)\n",
    "    maximums = np.zeros(len(data)//window+1)\n",
    "\n",
    "    k = 0\n",
    "    while k*window < l:\n",
    "        d = data[k*window:(k+1)*window]\n",
    "        maximums[k] = max(d)\n",
    "        # print(f\"k={k} Done\")\n",
    "        k += 1\n",
    "\n",
    "    HC_eyesOpen_m[i] = maximums\n",
    "\n",
    "for i in range(len(PD_eyesClosed)):\n",
    "    data = PD_eyesClosed[i]\n",
    "    l = len(data)\n",
    "    maximums = np.zeros(len(data)//window+1)\n",
    "\n",
    "    k = 0\n",
    "    while k*window < l:\n",
    "        d = data[k*window:(k+1)*window]\n",
    "        maximums[k] = max(d)\n",
    "        # print(f\"k={k} Done\")\n",
    "        k += 1\n",
    "\n",
    "    PD_eyesClosed_m[i] = maximums\n",
    "\n",
    "for i in range(len(HC_eyesClosed)):\n",
    "    data = HC_eyesClosed[i]\n",
    "    l = len(data)\n",
    "    maximums = np.zeros(len(data)//window+1)\n",
    "\n",
    "    k = 0\n",
    "    while k*window < l:\n",
    "        d = data[k*window:(k+1)*window]\n",
    "        maximums[k] = max(d)\n",
    "        # print(f\"k={k} Done\")\n",
    "        k += 1\n",
    "\n",
    "    HC_eyesClosed_m[i] = maximums"
   ]
  },
  {
   "cell_type": "markdown",
   "id": "edf4eaf7-a9fb-40ea-ac83-453894dc200a",
   "metadata": {},
   "source": [
    "# ŚREDNIA"
   ]
  },
  {
   "cell_type": "code",
   "execution_count": 9,
   "id": "0cc0cd26-1204-496e-9341-04669af3599d",
   "metadata": {},
   "outputs": [
    {
     "name": "stdout",
     "output_type": "stream",
     "text": [
      "        PDO       PDC       HCO       HCC\n",
      "0  0.000247  0.000098  0.000524  0.000504\n",
      "1  0.000099  0.000091  0.000091  0.000099\n",
      "2  0.000086  0.000250  0.000325  0.000322\n",
      "3  0.000141  0.000097  0.000121  0.000119\n"
     ]
    }
   ],
   "source": [
    "df_mean = pd.DataFrame()\n",
    "\n",
    "PDO = []\n",
    "PDC = []\n",
    "HCO = []\n",
    "HCC = []\n",
    "\n",
    "statistics = []\n",
    "\n",
    "groups = [PD_eyesOpen_m, PD_eyesClosed_m, HC_eyesOpen_m, HC_eyesClosed_m]\n",
    "\n",
    "l = len(groups)\n",
    "for i in range(l):\n",
    "\n",
    "    PDO.append(np.mean(groups[0][i]))\n",
    "    HCO.append(np.mean(groups[2][i]))\n",
    "    HCC.append(np.mean(groups[3][i]))\n",
    "\n",
    "    if i == 19:\n",
    "        PDC.append(None)\n",
    "    else :PDC.append(np.mean(groups[1][i]))\n",
    "\n",
    "df_mean['PDO']  = PDO\n",
    "df_mean['PDC']  = PDC\n",
    "df_mean['HCO']  = HCO\n",
    "df_mean['HCC']  = HCC\n",
    "\n",
    "print(df_mean)"
   ]
  },
  {
   "cell_type": "code",
   "execution_count": 10,
   "id": "336d712e-7c26-4974-a780-ec011d31ca1a",
   "metadata": {},
   "outputs": [
    {
     "name": "stdout",
     "output_type": "stream",
     "text": [
      "Otwarte oczy\n",
      "5.0 0.4857142857142857\n",
      "Zamknięte oczy\n",
      "2.0 0.22857142857142856\n"
     ]
    }
   ],
   "source": [
    "print('Otwarte oczy')\n",
    "stat, p = ss.mannwhitneyu(df_mean['PDO'], df_mean['HCO'])\n",
    "print(stat, p)\n",
    "print('Zamknięte oczy')\n",
    "stat, p = ss.mannwhitneyu(df_mean['PDC'][:-1], df_mean['HCC'])\n",
    "print(stat, p)"
   ]
  },
  {
   "cell_type": "code",
   "execution_count": 11,
   "id": "a23bed52-93ba-4532-befc-ce2fb6f26abe",
   "metadata": {},
   "outputs": [
    {
     "name": "stdout",
     "output_type": "stream",
     "text": [
      "Średnia średnia\n",
      "PDO\n",
      "0.00014326\n",
      "PDC\n",
      "0.00013376\n",
      "HCO\n",
      "0.00026525\n",
      "HCC\n",
      "0.00026102\n"
     ]
    }
   ],
   "source": [
    "print('Średnia średnia')\n",
    "print('PDO')\n",
    "print(np.round(np.mean(df_mean['PDO']), 8))\n",
    "print('PDC')\n",
    "print(np.round(np.mean(df_mean['PDC']), 8))\n",
    "print('HCO')\n",
    "print(np.round(np.mean(df_mean['HCO']), 8))\n",
    "print('HCC')\n",
    "print(np.round(np.mean(df_mean['HCC']), 8))"
   ]
  },
  {
   "cell_type": "markdown",
   "id": "0c5e6322-50ec-4ccf-8627-1382ce825685",
   "metadata": {},
   "source": [
    "# Wariancja"
   ]
  },
  {
   "cell_type": "code",
   "execution_count": 12,
   "id": "c1f58598-371c-409c-8259-fce7607462a8",
   "metadata": {},
   "outputs": [
    {
     "name": "stdout",
     "output_type": "stream",
     "text": [
      "            PDO           PDC           HCO           HCC\n",
      "0  1.339568e-07  4.811579e-11  7.733901e-09  7.162185e-08\n",
      "1  2.617720e-11  1.508058e-11  1.574373e-10  1.196835e-10\n",
      "2  1.201420e-11  2.559317e-08  3.303444e-07  3.579691e-07\n",
      "3  2.282079e-09  1.475571e-10  1.033781e-09  4.630601e-10\n"
     ]
    }
   ],
   "source": [
    "df_var = pd.DataFrame()\n",
    "\n",
    "PDO = []\n",
    "PDC = []\n",
    "HCO = []\n",
    "HCC = []\n",
    "\n",
    "statistics = []\n",
    "\n",
    "groups = [PD_eyesOpen_m, PD_eyesClosed_m, HC_eyesOpen_m, HC_eyesClosed_m]\n",
    "\n",
    "l = len(groups)\n",
    "for i in range(l):\n",
    "\n",
    "    PDO.append(np.var(groups[0][i]))\n",
    "    HCO.append(np.var(groups[2][i]))\n",
    "    HCC.append(np.var(groups[3][i]))\n",
    "\n",
    "    if i == 19:\n",
    "        PDC.append(None)\n",
    "    else :PDC.append(np.var(groups[1][i]))\n",
    "\n",
    "df_var['PDO']  = PDO\n",
    "df_var['PDC']  = PDC\n",
    "df_var['HCO']  = HCO\n",
    "df_var['HCC']  = HCC\n",
    "\n",
    "print(df_var)"
   ]
  },
  {
   "cell_type": "code",
   "execution_count": 13,
   "id": "e970940f-2910-4160-8707-1a54d546dfe4",
   "metadata": {},
   "outputs": [
    {
     "name": "stdout",
     "output_type": "stream",
     "text": [
      "Otwarte oczy\n",
      "5.0 0.4857142857142857\n",
      "Zamknięte oczy\n",
      "2.0 0.22857142857142856\n"
     ]
    }
   ],
   "source": [
    "print('Otwarte oczy')\n",
    "stat, p = ss.mannwhitneyu(df_var['PDO'], df_var['HCO'])\n",
    "print(stat, p)\n",
    "print('Zamknięte oczy')\n",
    "stat, p = ss.mannwhitneyu(df_var['PDC'][:-1], df_var['HCC'])\n",
    "print(stat, p)"
   ]
  },
  {
   "cell_type": "code",
   "execution_count": 14,
   "id": "1cc2819b-86a7-48f3-b5d7-2895e311b6db",
   "metadata": {},
   "outputs": [
    {
     "name": "stdout",
     "output_type": "stream",
     "text": [
      "Średnia wariancja\n",
      "PDO\n",
      "3.41e-08\n",
      "PDC\n",
      "6.5e-09\n",
      "HCO\n",
      "8.48e-08\n",
      "HCC\n",
      "1.075e-07\n"
     ]
    }
   ],
   "source": [
    "print('Średnia wariancja')\n",
    "print('PDO')\n",
    "print(np.round(np.mean(df_var['PDO']), 10))\n",
    "print('PDC')\n",
    "print(np.round(np.mean(df_var['PDC']), 10))\n",
    "print('HCO')\n",
    "print(np.round(np.mean(df_var['HCO']), 10))\n",
    "print('HCC')\n",
    "print(np.round(np.mean(df_var['HCC']), 10))"
   ]
  },
  {
   "cell_type": "markdown",
   "id": "370273d9-26c2-4494-bceb-538f17094a80",
   "metadata": {},
   "source": [
    "# ODCYLENIE STANDARDOWE"
   ]
  },
  {
   "cell_type": "code",
   "execution_count": 15,
   "id": "47231db9-fe43-4361-a4f4-2c4979d9617e",
   "metadata": {},
   "outputs": [
    {
     "name": "stdout",
     "output_type": "stream",
     "text": [
      "        PDO       PDC       HCO       HCC\n",
      "0  0.000366  0.000007  0.000088  0.000268\n",
      "1  0.000005  0.000004  0.000013  0.000011\n",
      "2  0.000003  0.000160  0.000575  0.000598\n",
      "3  0.000048  0.000012  0.000032  0.000022\n"
     ]
    }
   ],
   "source": [
    "df_std = pd.DataFrame()\n",
    "\n",
    "PDO = []\n",
    "PDC = []\n",
    "HCO = []\n",
    "HCC = []\n",
    "\n",
    "statistics = []\n",
    "\n",
    "groups = [PD_eyesOpen_m, PD_eyesClosed_m, HC_eyesOpen_m, HC_eyesClosed_m]\n",
    "\n",
    "l = len(groups)\n",
    "for i in range(l):\n",
    "\n",
    "    PDO.append(np.std(groups[0][i]))\n",
    "    HCO.append(np.std(groups[2][i]))\n",
    "    HCC.append(np.std(groups[3][i]))\n",
    "\n",
    "    if i == 19:\n",
    "        PDC.append(None)\n",
    "    else :PDC.append(np.std(groups[1][i]))\n",
    "\n",
    "df_std['PDO']  = PDO\n",
    "df_std['PDC']  = PDC\n",
    "df_std['HCO']  = HCO\n",
    "df_std['HCC']  = HCC\n",
    "\n",
    "print(df_std)"
   ]
  },
  {
   "cell_type": "code",
   "execution_count": 16,
   "id": "4b646062-0026-4bc1-9a28-fa32e7831272",
   "metadata": {},
   "outputs": [
    {
     "name": "stdout",
     "output_type": "stream",
     "text": [
      "Otwarte oczy\n",
      "5.0 0.4857142857142857\n",
      "Zamknięte oczy\n",
      "2.0 0.22857142857142856\n"
     ]
    }
   ],
   "source": [
    "print('Otwarte oczy')\n",
    "stat, p = ss.mannwhitneyu(df_std['PDO'], df_std['HCO'])\n",
    "print(stat, p)\n",
    "print('Zamknięte oczy')\n",
    "stat, p = ss.mannwhitneyu(df_std['PDC'][:-1], df_std['HCC'])\n",
    "print(stat, p)"
   ]
  },
  {
   "cell_type": "code",
   "execution_count": 17,
   "id": "8052aeea-1acf-4b2e-ab43-1aba1b8e7245",
   "metadata": {},
   "outputs": [
    {
     "name": "stdout",
     "output_type": "stream",
     "text": [
      "Średnie odchylenie standardowe\n",
      "PDO\n",
      "0.0001056\n",
      "PDC\n",
      "4.57e-05\n",
      "HCO\n",
      "0.0001768\n",
      "HCC\n",
      "0.0002246\n"
     ]
    }
   ],
   "source": [
    "print('Średnie odchylenie standardowe')\n",
    "print('PDO')\n",
    "print(np.round(np.mean(df_std['PDO']), 7))\n",
    "print('PDC')\n",
    "print(np.round(np.mean(df_std['PDC']), 7))\n",
    "print('HCO')\n",
    "print(np.round(np.mean(df_std['HCO']), 7))\n",
    "print('HCC')\n",
    "print(np.round(np.mean(df_std['HCC']), 7))"
   ]
  },
  {
   "cell_type": "markdown",
   "id": "08d1e9c2-5d0c-4797-b71a-f6a09b2df36e",
   "metadata": {},
   "source": [
    "# MEDIANA"
   ]
  },
  {
   "cell_type": "code",
   "execution_count": 18,
   "id": "79350f69-7f25-44b0-a91c-be1518d5fd9a",
   "metadata": {},
   "outputs": [
    {
     "name": "stdout",
     "output_type": "stream",
     "text": [
      "        PDO       PDC       HCO       HCC\n",
      "0  0.000198  0.000097  0.000518  0.000483\n",
      "1  0.000099  0.000090  0.000092  0.000099\n",
      "2  0.000085  0.000216  0.000265  0.000270\n",
      "3  0.000135  0.000096  0.000117  0.000119\n"
     ]
    }
   ],
   "source": [
    "df_med = pd.DataFrame()\n",
    "\n",
    "PDO = []\n",
    "PDC = []\n",
    "HCO = []\n",
    "HCC = []\n",
    "\n",
    "groups = [PD_eyesOpen_m, PD_eyesClosed_m, HC_eyesOpen_m, HC_eyesClosed_m]\n",
    "\n",
    "l = len(groups)\n",
    "for i in range(l):\n",
    "\n",
    "    PDO.append(np.median(groups[0][i]))\n",
    "    HCO.append(np.median(groups[2][i]))\n",
    "    HCC.append(np.median(groups[3][i]))\n",
    "\n",
    "    if i == 19:\n",
    "        PDC.append(None)\n",
    "    else :PDC.append(np.median(groups[1][i]))\n",
    "\n",
    "df_med['PDO']  = PDO\n",
    "df_med['PDC']  = PDC\n",
    "df_med['HCO']  = HCO\n",
    "df_med['HCC']  = HCC\n",
    "\n",
    "print(df_med)"
   ]
  },
  {
   "cell_type": "code",
   "execution_count": 19,
   "id": "903437c4-e426-4e9c-bc4f-0fef3bc35944",
   "metadata": {},
   "outputs": [
    {
     "name": "stdout",
     "output_type": "stream",
     "text": [
      "Otwarte oczy\n",
      "5.0 0.4857142857142857\n",
      "Zamknięte oczy\n",
      "2.0 0.22857142857142856\n"
     ]
    }
   ],
   "source": [
    "print('Otwarte oczy')\n",
    "stat, p = ss.mannwhitneyu(df_med['PDO'], df_med['HCO'])\n",
    "print(stat, p)\n",
    "print('Zamknięte oczy')\n",
    "stat, p = ss.mannwhitneyu(df_med['PDC'][:-1], df_med['HCC'])\n",
    "print(stat, p)"
   ]
  },
  {
   "cell_type": "code",
   "execution_count": 20,
   "id": "9513d245-2667-4ba3-b5b9-95ed65ef8da2",
   "metadata": {},
   "outputs": [
    {
     "name": "stdout",
     "output_type": "stream",
     "text": [
      "Średnia mediana\n",
      "PDO\n",
      "0.0001293\n",
      "PDC\n",
      "0.0001248\n",
      "HCO\n",
      "0.0002479\n",
      "HCC\n",
      "0.0002429\n"
     ]
    }
   ],
   "source": [
    "print('Średnia mediana')\n",
    "print('PDO')\n",
    "print(np.round(np.mean(df_med['PDO']), 7))\n",
    "print('PDC')\n",
    "print(np.round(np.mean(df_med['PDC']), 7))\n",
    "print('HCO')\n",
    "print(np.round(np.mean(df_med['HCO']), 7))\n",
    "print('HCC')\n",
    "print(np.round(np.mean(df_med['HCC']), 7))"
   ]
  },
  {
   "cell_type": "markdown",
   "id": "c32370e3-afb8-4d74-b31a-69d9ce860229",
   "metadata": {},
   "source": [
    "# MINIMUM"
   ]
  },
  {
   "cell_type": "code",
   "execution_count": 21,
   "id": "766f2539-3b9d-4528-99ec-f97850b0deb2",
   "metadata": {},
   "outputs": [
    {
     "name": "stdout",
     "output_type": "stream",
     "text": [
      "        PDO       PDC       HCO       HCC\n",
      "0 -0.001211  0.000081 -0.000276  0.000006\n",
      "1  0.000087  0.000077  0.000037  0.000060\n",
      "2  0.000075 -0.000348 -0.003481 -0.003180\n",
      "3 -0.000030  0.000063 -0.000074 -0.000157\n"
     ]
    }
   ],
   "source": [
    "df_min = pd.DataFrame()\n",
    "\n",
    "PDO = []\n",
    "PDC = []\n",
    "HCO = []\n",
    "HCC = []\n",
    "\n",
    "groups = [PD_eyesOpen_m, PD_eyesClosed_m, HC_eyesOpen_m, HC_eyesClosed_m]\n",
    "\n",
    "l = len(groups)\n",
    "for i in range(l):\n",
    "\n",
    "    PDO.append(np.min(groups[0][i]))\n",
    "    HCO.append(np.min(groups[2][i]))\n",
    "    HCC.append(np.min(groups[3][i]))\n",
    "\n",
    "    if i == 19:\n",
    "        PDC.append(None)\n",
    "    else :PDC.append(np.min(groups[1][i]))\n",
    "\n",
    "df_min['PDO']  = PDO\n",
    "df_min['PDC']  = PDC\n",
    "df_min['HCO']  = HCO\n",
    "df_min['HCC']  = HCC\n",
    "\n",
    "print(df_min)"
   ]
  },
  {
   "cell_type": "code",
   "execution_count": 22,
   "id": "40d083b9-2482-4310-91c3-4af903080456",
   "metadata": {},
   "outputs": [
    {
     "name": "stdout",
     "output_type": "stream",
     "text": [
      "Otwarte oczy\n",
      "12.0 0.34285714285714286\n",
      "Zamknięte oczy\n",
      "9.0 0.4\n"
     ]
    }
   ],
   "source": [
    "print('Otwarte oczy')\n",
    "stat, p = ss.mannwhitneyu(df_min['PDO'], df_min['HCO'])\n",
    "print(stat, p)\n",
    "print('Zamknięte oczy')\n",
    "stat, p = ss.mannwhitneyu(df_min['PDC'][:-1], df_min['HCC'])\n",
    "print(stat, p)"
   ]
  },
  {
   "cell_type": "code",
   "execution_count": 23,
   "id": "f82f7d1d-50e9-4679-bb47-46752b2ac861",
   "metadata": {},
   "outputs": [
    {
     "name": "stdout",
     "output_type": "stream",
     "text": [
      "Średnie minimum\n",
      "PDO\n",
      "-0.00027\n",
      "PDC\n",
      "-3.2e-05\n",
      "HCO\n",
      "-0.000949\n",
      "HCC\n",
      "-0.000818\n"
     ]
    }
   ],
   "source": [
    "print('Średnie minimum')\n",
    "print('PDO')\n",
    "print(np.round(np.mean(df_min['PDO']), 6))\n",
    "print('PDC')\n",
    "print(np.round(np.mean(df_min['PDC']), 6))\n",
    "print('HCO')\n",
    "print(np.round(np.mean(df_min['HCO']), 6))\n",
    "print('HCC')\n",
    "print(np.round(np.mean(df_min['HCC']), 6))"
   ]
  },
  {
   "cell_type": "markdown",
   "id": "97e219a0-c95f-4800-9a58-01a903b25b22",
   "metadata": {},
   "source": [
    "# MAKSIMUM"
   ]
  },
  {
   "cell_type": "code",
   "execution_count": 24,
   "id": "25bb8015-56ab-47ab-94d2-75cc931ef49a",
   "metadata": {},
   "outputs": [
    {
     "name": "stdout",
     "output_type": "stream",
     "text": [
      "        PDO       PDC       HCO       HCC\n",
      "0  0.003158  0.000163  0.001711  0.006185\n",
      "1  0.000119  0.000104  0.000129  0.000134\n",
      "2  0.000100  0.001611  0.012176  0.010596\n",
      "3  0.001021  0.000186  0.000552  0.000175\n"
     ]
    }
   ],
   "source": [
    "df_max = pd.DataFrame()\n",
    "\n",
    "PDO = []\n",
    "PDC = []\n",
    "HCO = []\n",
    "HCC = []\n",
    "\n",
    "groups = [PD_eyesOpen_m, PD_eyesClosed_m, HC_eyesOpen_m, HC_eyesClosed_m]\n",
    "\n",
    "l = len(groups)\n",
    "for i in range(l):\n",
    "\n",
    "    PDO.append(np.max(groups[0][i]))\n",
    "    HCO.append(np.max(groups[2][i]))\n",
    "    HCC.append(np.max(groups[3][i]))\n",
    "\n",
    "    if i == 19:\n",
    "        PDC.append(None)\n",
    "    else :PDC.append(np.max(groups[1][i]))\n",
    "\n",
    "df_max['PDO']  = PDO\n",
    "df_max['PDC']  = PDC\n",
    "df_max['HCO']  = HCO\n",
    "df_max['HCC']  = HCC\n",
    "\n",
    "print(df_max)"
   ]
  },
  {
   "cell_type": "code",
   "execution_count": 25,
   "id": "923660c9-3df9-4244-9525-0546134a7c9e",
   "metadata": {},
   "outputs": [
    {
     "name": "stdout",
     "output_type": "stream",
     "text": [
      "Otwarte oczy\n",
      "5.0 0.4857142857142857\n",
      "Zamknięte oczy\n",
      "3.0 0.4\n"
     ]
    }
   ],
   "source": [
    "print('Otwarte oczy')\n",
    "stat, p = ss.mannwhitneyu(df_max['PDO'], df_max['HCO'])\n",
    "print(stat, p)\n",
    "print('Zamknięte oczy')\n",
    "stat, p = ss.mannwhitneyu(df_max['PDC'][:-1], df_max['HCC'])\n",
    "print(stat, p)"
   ]
  },
  {
   "cell_type": "code",
   "execution_count": 26,
   "id": "bd184a7c-1f35-43d0-8b2a-d3a19995b4f0",
   "metadata": {},
   "outputs": [
    {
     "name": "stdout",
     "output_type": "stream",
     "text": [
      "Średnie maksimum\n",
      "PDO\n",
      "0.0011\n",
      "PDC\n",
      "0.000516\n",
      "HCO\n",
      "0.003642\n",
      "HCC\n",
      "0.004273\n"
     ]
    }
   ],
   "source": [
    "print('Średnie maksimum')\n",
    "print('PDO')\n",
    "print(np.round(np.mean(df_max['PDO']), 6))\n",
    "print('PDC')\n",
    "print(np.round(np.mean(df_max['PDC']), 6))\n",
    "print('HCO')\n",
    "print(np.round(np.mean(df_max['HCO']), 6))\n",
    "print('HCC')\n",
    "print(np.round(np.mean(df_max['HCC']), 6))"
   ]
  },
  {
   "cell_type": "markdown",
   "id": "365918aa-92b2-4e7f-baf9-39d47817801b",
   "metadata": {},
   "source": [
    "# ROZSTĘP"
   ]
  },
  {
   "cell_type": "code",
   "execution_count": 27,
   "id": "13b04379-37ac-4783-b82a-416d798501bb",
   "metadata": {},
   "outputs": [
    {
     "name": "stdout",
     "output_type": "stream",
     "text": [
      "        PDO       PDC       HCO       HCC\n",
      "0  0.004369  0.000081  0.001987  0.006180\n",
      "1  0.000032  0.000026  0.000092  0.000074\n",
      "2  0.000025  0.001960  0.015658  0.013776\n",
      "3  0.001051  0.000123  0.000626  0.000332\n"
     ]
    }
   ],
   "source": [
    "df_gap = pd.DataFrame()\n",
    "\n",
    "PDO = []\n",
    "PDC = []\n",
    "HCO = []\n",
    "HCC = []\n",
    "\n",
    "groups = [PD_eyesOpen_m, PD_eyesClosed_m, HC_eyesOpen_m, HC_eyesClosed_m]\n",
    "\n",
    "l = len(groups)\n",
    "for i in range(l):\n",
    "\n",
    "    PDO.append(np.max(groups[0][i]) - np.min(groups[0][i]))\n",
    "    HCO.append(np.max(groups[2][i]) - np.min(groups[2][i]))\n",
    "    HCC.append(np.max(groups[3][i]) - np.min(groups[3][i]))\n",
    "\n",
    "    if i == 19:\n",
    "        PDC.append(None)\n",
    "    else :PDC.append(np.max(groups[1][i]) - np.min(groups[1][i]))\n",
    "\n",
    "df_gap['PDO']  = PDO\n",
    "df_gap['PDC']  = PDC\n",
    "df_gap['HCO']  = HCO\n",
    "df_gap['HCC']  = HCC\n",
    "\n",
    "print(df_gap)"
   ]
  },
  {
   "cell_type": "code",
   "execution_count": 28,
   "id": "7a4efd51-5b95-49f7-9692-782afd0667b7",
   "metadata": {},
   "outputs": [
    {
     "name": "stdout",
     "output_type": "stream",
     "text": [
      "Otwarte oczy\n",
      "5.0 0.4857142857142857\n",
      "Zamknięte oczy\n",
      "3.0 0.4\n"
     ]
    }
   ],
   "source": [
    "print('Otwarte oczy')\n",
    "stat, p = ss.mannwhitneyu(df_gap['PDO'], df_gap['HCO'])\n",
    "print(stat, p)\n",
    "print('Zamknięte oczy')\n",
    "stat, p = ss.mannwhitneyu(df_gap['PDC'][:-1], df_gap['HCC'])\n",
    "print(stat, p)"
   ]
  },
  {
   "cell_type": "code",
   "execution_count": 29,
   "id": "2f6e11d6-9a97-4fe9-b1da-736c51268437",
   "metadata": {},
   "outputs": [
    {
     "name": "stdout",
     "output_type": "stream",
     "text": [
      "Średni rozstęp\n",
      "PDO\n",
      "0.00137\n",
      "PDC\n",
      "0.00055\n",
      "HCO\n",
      "0.00459\n",
      "HCC\n",
      "0.00509\n"
     ]
    }
   ],
   "source": [
    "print('Średni rozstęp')\n",
    "print('PDO')\n",
    "print(np.round(np.mean(df_gap['PDO']), 5))\n",
    "print('PDC')\n",
    "print(np.round(np.mean(df_gap['PDC']), 5))\n",
    "print('HCO')\n",
    "print(np.round(np.mean(df_gap['HCO']), 5))\n",
    "print('HCC')\n",
    "print(np.round(np.mean(df_gap['HCC']), 5))"
   ]
  },
  {
   "cell_type": "markdown",
   "id": "79b4c346-d203-498a-a7bf-d3da25a9436a",
   "metadata": {},
   "source": [
    "# Q1"
   ]
  },
  {
   "cell_type": "code",
   "execution_count": 30,
   "id": "970d5b0b-2bce-4f4e-8422-f08f9e659d78",
   "metadata": {},
   "outputs": [
    {
     "name": "stdout",
     "output_type": "stream",
     "text": [
      "        PDO       PDC       HCO       HCC\n",
      "0  0.000185  0.000093  0.000510  0.000475\n",
      "1  0.000096  0.000088  0.000083  0.000092\n",
      "2  0.000083  0.000195  0.000253  0.000260\n",
      "3  0.000128  0.000089  0.000112  0.000115\n"
     ]
    }
   ],
   "source": [
    "df_q1 = pd.DataFrame()\n",
    "\n",
    "PDO = []\n",
    "PDC = []\n",
    "HCO = []\n",
    "HCC = []\n",
    "\n",
    "groups = [PD_eyesOpen_m, PD_eyesClosed_m, HC_eyesOpen_m, HC_eyesClosed_m]\n",
    "\n",
    "l = len(groups)\n",
    "for i in range(l):\n",
    "\n",
    "    PDO.append(np.quantile(groups[0][i], 0.25))\n",
    "    HCO.append(np.quantile(groups[2][i], 0.25))\n",
    "    HCC.append(np.quantile(groups[3][i], 0.25))\n",
    "\n",
    "    if i == 19:\n",
    "        PDC.append(None)\n",
    "    else :PDC.append(np.quantile(groups[1][i], 0.25))\n",
    "\n",
    "df_q1['PDO']  = PDO\n",
    "df_q1['PDC']  = PDC\n",
    "df_q1['HCO']  = HCO\n",
    "df_q1['HCC']  = HCC\n",
    "\n",
    "print(df_q1)"
   ]
  },
  {
   "cell_type": "code",
   "execution_count": 31,
   "id": "27fdeb43-15bf-4630-822c-7faf18035dbe",
   "metadata": {},
   "outputs": [
    {
     "name": "stdout",
     "output_type": "stream",
     "text": [
      "Otwarte oczy\n",
      "6.0 0.6857142857142857\n",
      "Zamknięte oczy\n",
      "3.0 0.4\n"
     ]
    }
   ],
   "source": [
    "print('Otwarte oczy')\n",
    "stat, p = ss.mannwhitneyu(df_q1['PDO'], df_q1['HCO'])\n",
    "print(stat, p)\n",
    "print('Zamknięte oczy')\n",
    "stat, p = ss.mannwhitneyu(df_q1['PDC'][:-1], df_q1['HCC'])\n",
    "print(stat, p)"
   ]
  },
  {
   "cell_type": "code",
   "execution_count": 32,
   "id": "2e5ba74c-de61-47f2-822b-bae01cb41a40",
   "metadata": {},
   "outputs": [
    {
     "name": "stdout",
     "output_type": "stream",
     "text": [
      "Średni q1\n",
      "PDO\n",
      "0.000123\n",
      "PDC\n",
      "0.000116\n",
      "HCO\n",
      "0.0002393\n",
      "HCC\n",
      "0.0002356\n"
     ]
    }
   ],
   "source": [
    "print('Średni q1')\n",
    "print('PDO')\n",
    "print(np.round(np.mean(df_q1['PDO']), 7))\n",
    "print('PDC')\n",
    "print(np.round(np.mean(df_q1['PDC']), 7))\n",
    "print('HCO')\n",
    "print(np.round(np.mean(df_q1['HCO']), 7))\n",
    "print('HCC')\n",
    "print(np.round(np.mean(df_q1['HCC']), 7))"
   ]
  },
  {
   "cell_type": "markdown",
   "id": "bd9f041a-f831-4d4e-9bac-cb10cdc786f5",
   "metadata": {},
   "source": [
    "# Q3"
   ]
  },
  {
   "cell_type": "code",
   "execution_count": 33,
   "id": "e07a3195-452d-4cf7-9070-18ded8ca7db6",
   "metadata": {},
   "outputs": [
    {
     "name": "stdout",
     "output_type": "stream",
     "text": [
      "        PDO       PDC       HCO       HCC\n",
      "0  0.000214  0.000102  0.000525  0.000490\n",
      "1  0.000102  0.000093  0.000100  0.000107\n",
      "2  0.000088  0.000267  0.000281  0.000284\n",
      "3  0.000146  0.000104  0.000124  0.000125\n"
     ]
    }
   ],
   "source": [
    "df_q3 = pd.DataFrame()\n",
    "\n",
    "PDO = []\n",
    "PDC = []\n",
    "HCO = []\n",
    "HCC = []\n",
    "\n",
    "groups = [PD_eyesOpen_m, PD_eyesClosed_m, HC_eyesOpen_m, HC_eyesClosed_m]\n",
    "\n",
    "l = len(groups)\n",
    "for i in range(l):\n",
    "\n",
    "    PDO.append(np.quantile(groups[0][i], 0.75))\n",
    "    HCO.append(np.quantile(groups[2][i], 0.75))\n",
    "    HCC.append(np.quantile(groups[3][i], 0.75))\n",
    "\n",
    "    if i == 19:\n",
    "        PDC.append(None)\n",
    "    else :PDC.append(np.quantile(groups[1][i], 0.75))\n",
    "\n",
    "df_q3['PDO']  = PDO\n",
    "df_q3['PDC']  = PDC\n",
    "df_q3['HCO']  = HCO\n",
    "df_q3['HCC']  = HCC\n",
    "\n",
    "print(df_q3)"
   ]
  },
  {
   "cell_type": "code",
   "execution_count": 34,
   "id": "96ddade6-2e40-4551-87a4-4240d772407d",
   "metadata": {},
   "outputs": [
    {
     "name": "stdout",
     "output_type": "stream",
     "text": [
      "Otwarte oczy\n",
      "5.0 0.4857142857142857\n",
      "Zamknięte oczy\n",
      "2.0 0.22857142857142856\n"
     ]
    }
   ],
   "source": [
    "print('Otwarte oczy')\n",
    "stat, p = ss.mannwhitneyu(df_q3['PDO'], df_q3['HCO'])\n",
    "print(stat, p)\n",
    "print('Zamknięte oczy')\n",
    "stat, p = ss.mannwhitneyu(df_q3['PDC'][:-1], df_q3['HCC'])\n",
    "print(stat, p)"
   ]
  },
  {
   "cell_type": "code",
   "execution_count": 35,
   "id": "c926fa54-91a7-4dbc-a28f-ac84c0a878da",
   "metadata": {},
   "outputs": [
    {
     "name": "stdout",
     "output_type": "stream",
     "text": [
      "Średni q3\n",
      "PDO\n",
      "0.000138\n",
      "PDC\n",
      "0.000141\n",
      "HCO\n",
      "0.000257\n",
      "HCC\n",
      "0.000251\n"
     ]
    }
   ],
   "source": [
    "print('Średni q3')\n",
    "print('PDO')\n",
    "print(np.round(np.mean(df_q3['PDO']), 6))\n",
    "print('PDC')\n",
    "print(np.round(np.mean(df_q3['PDC']), 6))\n",
    "print('HCO')\n",
    "print(np.round(np.mean(df_q3['HCO']), 6))\n",
    "print('HCC')\n",
    "print(np.round(np.mean(df_q3['HCC']), 6))"
   ]
  },
  {
   "cell_type": "markdown",
   "id": "fff5fb81-9690-4fd8-ab3a-16f995037a4c",
   "metadata": {},
   "source": [
    "# IQR"
   ]
  },
  {
   "cell_type": "code",
   "execution_count": 36,
   "id": "4af1012e-76ab-4382-8356-5de28f4d76f5",
   "metadata": {},
   "outputs": [
    {
     "name": "stdout",
     "output_type": "stream",
     "text": [
      "        PDO       PDC       HCO       HCC\n",
      "0  0.000028  0.000009  0.000015  0.000015\n",
      "1  0.000007  0.000005  0.000017  0.000014\n",
      "2  0.000004  0.000072  0.000029  0.000024\n",
      "3  0.000018  0.000015  0.000012  0.000010\n"
     ]
    }
   ],
   "source": [
    "df_interquartile_range = pd.DataFrame()\n",
    "\n",
    "PDO = []\n",
    "PDC = []\n",
    "HCO = []\n",
    "HCC = []\n",
    "\n",
    "groups = [PD_eyesOpen_m, PD_eyesClosed_m, HC_eyesOpen_m, HC_eyesClosed_m]\n",
    "\n",
    "l = len(groups)\n",
    "for i in range(l):\n",
    "\n",
    "    PDO.append(np.quantile(groups[0][i], 0.75) - np.quantile(groups[0][i], 0.25))\n",
    "    HCO.append(np.quantile(groups[2][i], 0.75) - np.quantile(groups[2][i], 0.25))\n",
    "    HCC.append(np.quantile(groups[3][i], 0.75) - np.quantile(groups[3][i], 0.25))\n",
    "\n",
    "    if i == 19:\n",
    "        PDC.append(None)\n",
    "    else :PDC.append(np.quantile(groups[1][i], 0.75) - np.quantile(groups[1][i], 0.25))\n",
    "\n",
    "df_interquartile_range['PDO']  = PDO\n",
    "df_interquartile_range['PDC']  = PDC\n",
    "df_interquartile_range['HCO']  = HCO\n",
    "df_interquartile_range['HCC']  = HCC\n",
    "\n",
    "print(df_interquartile_range)"
   ]
  },
  {
   "cell_type": "code",
   "execution_count": 37,
   "id": "da43508f-c11b-40cf-a25c-44e6a1ece1d3",
   "metadata": {},
   "outputs": [
    {
     "name": "stdout",
     "output_type": "stream",
     "text": [
      "Otwarte oczy\n",
      "6.0 0.6857142857142857\n",
      "Zamknięte oczy\n",
      "4.0 0.6285714285714286\n"
     ]
    }
   ],
   "source": [
    "print('Otwarte oczy')\n",
    "stat, p = ss.mannwhitneyu(df_interquartile_range['PDO'], df_interquartile_range['HCO'])\n",
    "print(stat, p)\n",
    "print('Zamknięte oczy')\n",
    "stat, p = ss.mannwhitneyu(df_interquartile_range['PDC'][:-1], df_interquartile_range['HCC'])\n",
    "print(stat, p)"
   ]
  },
  {
   "cell_type": "code",
   "execution_count": 38,
   "id": "eda53291-21f9-4420-a20d-7f87662ee9a5",
   "metadata": {},
   "outputs": [
    {
     "name": "stdout",
     "output_type": "stream",
     "text": [
      "Średnie IQR\n",
      "PDO\n",
      "1.45e-05\n",
      "PDC\n",
      "2.53e-05\n",
      "HCO\n",
      "1.81e-05\n",
      "HCC\n",
      "1.57e-05\n"
     ]
    }
   ],
   "source": [
    "print('Średnie IQR')\n",
    "print('PDO')\n",
    "print(np.round(np.mean(df_interquartile_range['PDO']), 7))\n",
    "print('PDC')\n",
    "print(np.round(np.mean(df_interquartile_range['PDC']), 7))\n",
    "print('HCO')\n",
    "print(np.round(np.mean(df_interquartile_range['HCO']), 7))\n",
    "print('HCC')\n",
    "print(np.round(np.mean(df_interquartile_range['HCC']), 7))"
   ]
  },
  {
   "cell_type": "markdown",
   "id": "d3b99ebb-1a62-4a06-afef-e8b1f50a6c26",
   "metadata": {},
   "source": [
    "# KURTOZA"
   ]
  },
  {
   "cell_type": "code",
   "execution_count": 39,
   "id": "7ff5b6a1-8245-4b3d-9292-ec04c694234d",
   "metadata": {},
   "outputs": [
    {
     "name": "stdout",
     "output_type": "stream",
     "text": [
      "          PDO        PDC         HCO         HCC\n",
      "0   23.898054   9.506951   94.908389  316.833668\n",
      "1    0.405571   0.317395    0.345033    0.390846\n",
      "2    0.676280  27.217111  250.260601  135.446184\n",
      "3  163.354312   4.058945   65.134115   68.215082\n"
     ]
    }
   ],
   "source": [
    "df_kurt = pd.DataFrame()\n",
    "\n",
    "PDO = []\n",
    "PDC = []\n",
    "HCO = []\n",
    "HCC = []\n",
    "\n",
    "groups = [PD_eyesOpen_m, PD_eyesClosed_m, HC_eyesOpen_m, HC_eyesClosed_m]\n",
    "\n",
    "l = len(groups)\n",
    "for i in range(l):\n",
    "\n",
    "    PDO.append(ss.kurtosis(groups[0][i]))\n",
    "    HCO.append(ss.kurtosis(groups[2][i]))\n",
    "    HCC.append(ss.kurtosis(groups[3][i]))\n",
    "\n",
    "    if i == 19:\n",
    "        PDC.append(None)\n",
    "    else :PDC.append(ss.kurtosis(groups[1][i]))\n",
    "\n",
    "df_kurt['PDO']  = PDO\n",
    "df_kurt['PDC']  = PDC\n",
    "df_kurt['HCO']  = HCO\n",
    "df_kurt['HCC']  = HCC\n",
    "\n",
    "print(df_kurt)"
   ]
  },
  {
   "cell_type": "code",
   "execution_count": 40,
   "id": "6a794149-c2d6-4bba-b16e-5c6c2221a28f",
   "metadata": {},
   "outputs": [
    {
     "name": "stdout",
     "output_type": "stream",
     "text": [
      "Otwarte oczy\n",
      "6.0 0.6857142857142857\n",
      "Zamknięte oczy\n",
      "2.0 0.22857142857142856\n"
     ]
    }
   ],
   "source": [
    "print('Otwarte oczy')\n",
    "stat, p = ss.mannwhitneyu(df_kurt['PDO'], df_kurt['HCO'])\n",
    "print(stat, p)\n",
    "print('Zamknięte oczy')\n",
    "stat, p = ss.mannwhitneyu(df_kurt['PDC'][:-1], df_kurt['HCC'])\n",
    "print(stat, p)"
   ]
  },
  {
   "cell_type": "code",
   "execution_count": 41,
   "id": "8320ce85-73af-4d66-91f4-0e2511abf1a7",
   "metadata": {},
   "outputs": [
    {
     "name": "stdout",
     "output_type": "stream",
     "text": [
      "Średnia kurtoza\n",
      "PDO\n",
      "47.0836\n",
      "PDC\n",
      "10.2751\n",
      "HCO\n",
      "102.662\n",
      "HCC\n",
      "130.2214\n"
     ]
    }
   ],
   "source": [
    "print('Średnia kurtoza')\n",
    "print('PDO')\n",
    "print(np.round(np.mean(df_kurt['PDO']), 4))\n",
    "print('PDC')\n",
    "print(np.round(np.mean(df_kurt['PDC']), 4))\n",
    "print('HCO')\n",
    "print(np.round(np.mean(df_kurt['HCO']), 4))\n",
    "print('HCC')\n",
    "print(np.round(np.mean(df_kurt['HCC']), 4))"
   ]
  },
  {
   "cell_type": "markdown",
   "id": "4b68ab0a-fa8f-4d64-a961-b0b3f7976422",
   "metadata": {},
   "source": [
    "# SKOŚNOŚĆ"
   ]
  },
  {
   "cell_type": "code",
   "execution_count": 42,
   "id": "8027f441-6705-450a-871e-ffa3de9e0529",
   "metadata": {},
   "outputs": [
    {
     "name": "stdout",
     "output_type": "stream",
     "text": [
      "        PDO       PDC        HCO        HCC\n",
      "0  4.013650  1.218833   6.322513  16.812504\n",
      "1  0.429889  0.143630  -0.227421  -0.217341\n",
      "2  0.575416  4.040534  13.058595   9.378678\n",
      "3  9.986628  0.895646   5.799194  -6.649124\n"
     ]
    }
   ],
   "source": [
    "df_skew = pd.DataFrame()\n",
    "\n",
    "PDO = []\n",
    "PDC = []\n",
    "HCO = []\n",
    "HCC = []\n",
    "\n",
    "groups = [PD_eyesOpen_m, PD_eyesClosed_m, HC_eyesOpen_m, HC_eyesClosed_m]\n",
    "\n",
    "l = len(groups)\n",
    "for i in range(l):\n",
    "\n",
    "    PDO.append(ss.skew(groups[0][i]))\n",
    "    HCO.append(ss.skew(groups[2][i]))\n",
    "    HCC.append(ss.skew(groups[3][i]))\n",
    "\n",
    "    if i == 19:\n",
    "        PDC.append(None)\n",
    "    else :PDC.append(ss.skew(groups[1][i]))\n",
    "\n",
    "df_skew['PDO']  = PDO\n",
    "df_skew['PDC']  = PDC\n",
    "df_skew['HCO']  = HCO\n",
    "df_skew['HCC']  = HCC\n",
    "\n",
    "print(df_skew)"
   ]
  },
  {
   "cell_type": "code",
   "execution_count": 43,
   "id": "e5ee6ef0-c84d-4017-9225-afa4672d115d",
   "metadata": {},
   "outputs": [
    {
     "name": "stdout",
     "output_type": "stream",
     "text": [
      "Otwarte oczy\n",
      "6.0 0.6857142857142857\n",
      "Zamknięte oczy\n",
      "6.0 1.0\n"
     ]
    }
   ],
   "source": [
    "print('Otwarte oczy')\n",
    "stat, p = ss.mannwhitneyu(df_skew['PDO'], df_skew['HCO'])\n",
    "print(stat, p)\n",
    "print('Zamknięte oczy')\n",
    "stat, p = ss.mannwhitneyu(df_skew['PDC'][:-1], df_skew['HCC'])\n",
    "print(stat, p)"
   ]
  },
  {
   "cell_type": "code",
   "execution_count": 44,
   "id": "f655fb13-c3ad-443c-907d-07037fd0086b",
   "metadata": {},
   "outputs": [
    {
     "name": "stdout",
     "output_type": "stream",
     "text": [
      "Średnia skośność\n",
      "PDO\n",
      "3.7514\n",
      "PDC\n",
      "1.5747\n",
      "HCO\n",
      "6.2382\n",
      "HCC\n",
      "4.8312\n"
     ]
    }
   ],
   "source": [
    "print('Średnia skośność')\n",
    "print('PDO')\n",
    "print(np.round(np.mean(df_skew['PDO']), 4))\n",
    "print('PDC')\n",
    "print(np.round(np.mean(df_skew['PDC']), 4))\n",
    "print('HCO')\n",
    "print(np.round(np.mean(df_skew['HCO']), 4))\n",
    "print('HCC')\n",
    "print(np.round(np.mean(df_skew['HCC']), 4))"
   ]
  },
  {
   "cell_type": "markdown",
   "id": "a5453818-7b63-4b5c-902e-74dbf1dd4157",
   "metadata": {},
   "source": [
    "# ZMIENNOŚĆ"
   ]
  },
  {
   "cell_type": "code",
   "execution_count": 48,
   "id": "61ac2e59-8ade-4518-b6b3-2d4e760b91d7",
   "metadata": {},
   "outputs": [],
   "source": [
    "def coef_of_variation(data):\n",
    "    mi = np.mean(data)\n",
    "    s = np.std(data)\n",
    "    return s/mi"
   ]
  },
  {
   "cell_type": "code",
   "execution_count": 49,
   "id": "be108ceb-15b2-4d54-83c4-11b49728b5b9",
   "metadata": {},
   "outputs": [
    {
     "name": "stdout",
     "output_type": "stream",
     "text": [
      "        PDO       PDC       HCO       HCC\n",
      "0  1.479671  0.071121  0.167897  0.530869\n",
      "1  0.051537  0.042897  0.137547  0.109983\n",
      "2  0.040444  0.638815  1.766695  1.859160\n",
      "3  0.339472  0.125798  0.266508  0.181352\n"
     ]
    }
   ],
   "source": [
    "df_coef_var = pd.DataFrame()\n",
    "\n",
    "PDO = []\n",
    "PDC = []\n",
    "HCO = []\n",
    "HCC = []\n",
    "\n",
    "groups = [PD_eyesOpen_m, PD_eyesClosed_m, HC_eyesOpen_m, HC_eyesClosed_m]\n",
    "\n",
    "l = len(groups)\n",
    "for i in range(l):\n",
    "\n",
    "    PDO.append(coef_of_variation(groups[0][i]))\n",
    "    HCO.append(coef_of_variation(groups[2][i]))\n",
    "    HCC.append(coef_of_variation(groups[3][i]))\n",
    "\n",
    "    if i == 19:\n",
    "        PDC.append(None)\n",
    "    else :PDC.append(coef_of_variation(groups[1][i]))\n",
    "\n",
    "df_coef_var['PDO']  = PDO\n",
    "df_coef_var['PDC']  = PDC\n",
    "df_coef_var['HCO']  = HCO\n",
    "df_coef_var['HCC']  = HCC\n",
    "\n",
    "print(df_coef_var)"
   ]
  },
  {
   "cell_type": "code",
   "execution_count": 50,
   "id": "9079e349-9bf2-4f09-a902-a2367c94113f",
   "metadata": {},
   "outputs": [
    {
     "name": "stdout",
     "output_type": "stream",
     "text": [
      "Otwarte oczy\n",
      "6.0 0.6857142857142857\n",
      "Zamknięte oczy\n",
      "3.0 0.4\n"
     ]
    }
   ],
   "source": [
    "print('Otwarte oczy')\n",
    "stat, p = ss.mannwhitneyu(df_coef_var['PDO'], df_coef_var['HCO'])\n",
    "print(stat, p)\n",
    "print('Zamknięte oczy')\n",
    "stat, p = ss.mannwhitneyu(df_coef_var['PDC'][:-1], df_coef_var['HCC'])\n",
    "print(stat, p)"
   ]
  },
  {
   "cell_type": "code",
   "execution_count": 51,
   "id": "fa6cc0f2-4eca-4399-945e-5a15adba29e3",
   "metadata": {},
   "outputs": [
    {
     "name": "stdout",
     "output_type": "stream",
     "text": [
      "Średnia zmienność\n",
      "PDO\n",
      "0.4778\n",
      "PDC\n",
      "0.2197\n",
      "HCO\n",
      "0.5847\n",
      "HCC\n",
      "0.6703\n"
     ]
    }
   ],
   "source": [
    "print('Średnia zmienność')\n",
    "print('PDO')\n",
    "print(np.round(np.mean(df_coef_var['PDO']), 4))\n",
    "print('PDC')\n",
    "print(np.round(np.mean(df_coef_var['PDC']), 4))\n",
    "print('HCO')\n",
    "print(np.round(np.mean(df_coef_var['HCO']), 4))\n",
    "print('HCC')\n",
    "print(np.round(np.mean(df_coef_var['HCC']), 4))"
   ]
  }
 ],
 "metadata": {
  "kernelspec": {
   "display_name": "Python 3 (ipykernel)",
   "language": "python",
   "name": "python3"
  },
  "language_info": {
   "codemirror_mode": {
    "name": "ipython",
    "version": 3
   },
   "file_extension": ".py",
   "mimetype": "text/x-python",
   "name": "python",
   "nbconvert_exporter": "python",
   "pygments_lexer": "ipython3",
   "version": "3.11.0"
  }
 },
 "nbformat": 4,
 "nbformat_minor": 5
}
